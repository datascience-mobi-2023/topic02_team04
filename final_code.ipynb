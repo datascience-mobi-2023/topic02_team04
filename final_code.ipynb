{
 "cells": [
  {
   "cell_type": "code",
   "execution_count": 2,
   "metadata": {},
   "outputs": [],
   "source": [
    "import pandas as pd\n",
    "import seaborn as sns\n",
    "import numpy as np\n",
    "import matplotlib.pyplot as plt"
   ]
  },
  {
   "cell_type": "code",
   "execution_count": 3,
   "metadata": {},
   "outputs": [],
   "source": [
    "#dataload\n",
    "BRCA1_raw = pd.read_csv(\"BRCA1_HUMAN_Findlay_2018.csv\")\n",
    "#dataload, Marastyle\n",
    "df = pd.read_csv(\"BRCA1_HUMAN_Findlay_2018.csv\")"
   ]
  },
  {
   "cell_type": "code",
   "execution_count": 4,
   "metadata": {},
   "outputs": [],
   "source": [
    "#code to split our dataframe into its domains\n",
    "\n",
    "RING = BRCA1_raw[:575]\n",
    "BRCT = BRCA1_raw[575:]"
   ]
  },
  {
   "cell_type": "code",
   "execution_count": 6,
   "metadata": {},
   "outputs": [],
   "source": [
    "# add column named: 'position'\n",
    "import re \n",
    "\n",
    "def get_number_from_text(text):\n",
    "    return re.findall(r'\\d{1,4}',text)[0]\n",
    "\n",
    "df['position']=df['mutant'].apply(get_number_from_text)"
   ]
  },
  {
   "cell_type": "code",
   "execution_count": 7,
   "metadata": {},
   "outputs": [],
   "source": [
    "# add column containing the newly introduced Aminoacid\n",
    "test1=df.mutant.str.extract(r'(\\d)([ARNDCQEGHILKTMfPOUSTWYV])')\n",
    "df[\"new_aa\"]=test1[1]"
   ]
  },
  {
   "cell_type": "code",
   "execution_count": 8,
   "metadata": {},
   "outputs": [],
   "source": [
    "# dataset with only bin0s\n",
    "df_filtered = df[df['DMS_score_bin'] == 0]"
   ]
  },
  {
   "cell_type": "code",
   "execution_count": 9,
   "metadata": {},
   "outputs": [
    {
     "data": {
      "text/plain": [
       "[]"
      ]
     },
     "execution_count": 9,
     "metadata": {},
     "output_type": "execute_result"
    }
   ],
   "source": [
    "#CHECKING FOR SECONDARY STRUCTURES -> based on Psipred\n",
    "\n",
    "#Helices:\n",
    "helices = ['8', '9', '10',\"11\",\"12\",\"13\",\"14\",\"15\",\"16\",\"17\",\"18\",\"19\",\"20\",\"21\",\"22\",\"28\",\"29\",\"30\",\"31\",\"41\",\"42\",\"43\",\"44\",\"45\",\"46\",\"47\",\"48\",\"49\",\"50\",\"51\",\"52\",\"70\",\"71\",\"72\",\"73\",\"78\",\"79\",\"80\",\"81\",\"82\",\"83\",\"84\",\"85\",\"86\",\"87\",\"88\",\"89\",\"90\",\"91\",\"92\",\"93\",\"94\",\"95\",\"96\",\"97\",\"1659\",\"1660\",\"1661\",\"1662\",\"1663\",\"1664\",\"1665\",\"1666\",\"1667\",\"1668\",\"1669\",\"1670\",\"1671\",\"1701\",\"1702\",\"1703\",\"1704\",\"1705\",\"1706\",\"1707\",\"1708\",\"1716\",\"1717\",\"1718\",\"1719\",\"1720\",\"1721\",\"1722\",\"1723\",\"1724\",\"1725\",\"1749\",\"1750\",\"1751\",\"1752\",\"1753\",\"1754\",\"1755\",\"1777\",\"1778\",\"1779\",\"1780\",\"1781\",\"1782\",\"1783\",\"1784\",\"1785\",\"1786\",\"1820\",\"1821\",\"1822\",\"1823\",\"1824\",\"1825\",\"1826\",\"1827\",\"1835\",\"1836\",\"1837\",\"1838\",\"1839\",\"1840\",\"1841\",\"1842\",\"1843\",\"1844\"]\n",
    "helices_df = df.loc[df['position'].astype(str).isin(helices)]\n",
    "\n",
    "#Helices_bin0:\n",
    "helices_df_bin0 = helices_df.loc[helices_df['DMS_score_bin'] == 0].copy()\n",
    "\n",
    "#Strands:\n",
    "strands = [\"1650\",\"1651\",\"1652\",\"1653\",\"1654\",\"1674\",\"1675\",\"1676\",\"1677\",\"1684\",\"1685\",\"1686\",\"1687\",\"1688\",\"1689\",\"1712\",\"1713\",\"1714\",\"1715\",\"1765\",\"1766\",\"1767\",\"1768\",\"1769\",\"1807\",\"1808\",\"1809\",\"1810\"]\n",
    "strands_df = df.loc[df['position'].astype(str).isin(strands)]\n",
    "\n",
    "#Strands_bin0:\n",
    "strands_df_bin0 = strands_df.loc[strands_df['DMS_score_bin'] == 0].copy()\n",
    "\n",
    "#Coils (improved technique :D):\n",
    "df['position'] = df['position'].astype(int)\n",
    "coils = list(range(1, 8)) + list(range(22, 35)) + list(range(37, 45))+ list(range(55, 67)) + list(range(69, 77)) + list(range(98, 102)) + list(range(1631, 1651))+ list(range(1656, 1660)) + list(range(1673, 1676)) + list(range(1679, 1686)) + list(range(1691, 1702)) + list(range(1710, 1715))+ list(range(1727, 1736))+ list(range(1738, 1753))+ list(range(1757, 1767))+ list(range(1771, 1778))+ list(range(1788, 1791))+ list(range(1794, 1796))+ list(range(1799, 1806))+ list(range(1812, 1821))+ list(range(1829, 1833))+ list(range(1846, 1851))+ list(range(1854, 1865))\n",
    "coils_df = df.loc[df['position'].isin(coils)]\n",
    "\n",
    "#Coils_bin0:\n",
    "coils_df_bin0 = coils_df.loc[coils_df['DMS_score_bin'] == 0].copy()\n",
    "\n",
    "# Testing for overlaps:\n",
    "set1 = set(helices)\n",
    "set2 = set(strands)\n",
    "set3 = set(coils)\n",
    "\n",
    "common_elements = set1.intersection(set2, set3)\n",
    "\n",
    "common_elements_list = list(common_elements)\n",
    "common_elements_list\n",
    "\n",
    "#-> no overlaps, yay\n"
   ]
  },
  {
   "cell_type": "code",
   "execution_count": null,
   "metadata": {},
   "outputs": [],
   "source": []
  }
 ],
 "metadata": {
  "kernelspec": {
   "display_name": "base",
   "language": "python",
   "name": "python3"
  },
  "language_info": {
   "codemirror_mode": {
    "name": "ipython",
    "version": 3
   },
   "file_extension": ".py",
   "mimetype": "text/x-python",
   "name": "python",
   "nbconvert_exporter": "python",
   "pygments_lexer": "ipython3",
   "version": "3.10.9"
  },
  "orig_nbformat": 4
 },
 "nbformat": 4,
 "nbformat_minor": 2
}
