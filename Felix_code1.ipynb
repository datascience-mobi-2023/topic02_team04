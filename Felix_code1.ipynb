{
 "cells": [
  {
   "cell_type": "code",
   "execution_count": 3,
   "id": "56515f88",
   "metadata": {
    "ExecuteTime": {
     "end_time": "2023-07-15T13:13:43.913145500Z",
     "start_time": "2023-07-15T13:13:43.782265200Z"
    }
   },
   "outputs": [],
   "source": []
  },
  {
   "cell_type": "code",
   "execution_count": 4,
   "id": "7f5953a9",
   "metadata": {
    "ExecuteTime": {
     "end_time": "2023-07-15T13:13:45.657424100Z",
     "start_time": "2023-07-15T13:13:43.796469700Z"
    }
   },
   "outputs": [],
   "source": [
    "import pandas as pd\n",
    "import numpy as np"
   ]
  },
  {
   "cell_type": "code",
   "execution_count": 5,
   "id": "65397f6f",
   "metadata": {
    "ExecuteTime": {
     "end_time": "2023-07-15T13:13:45.737967700Z",
     "start_time": "2023-07-15T13:13:45.657424100Z"
    }
   },
   "outputs": [
    {
     "ename": "FileNotFoundError",
     "evalue": "[Errno 2] No such file or directory: 'C:\\\\Users\\\\felix\\\\OneDrive\\\\Dokumente\\\\BRCA1_HUMAN_Findlay_2018.csv'",
     "output_type": "error",
     "traceback": [
      "\u001B[1;31m---------------------------------------------------------------------------\u001B[0m",
      "\u001B[1;31mFileNotFoundError\u001B[0m                         Traceback (most recent call last)",
      "Cell \u001B[1;32mIn[5], line 1\u001B[0m\n\u001B[1;32m----> 1\u001B[0m brca_raw\u001B[38;5;241m=\u001B[39m\u001B[38;5;28;43mopen\u001B[39;49m\u001B[43m(\u001B[49m\u001B[38;5;124;43mr\u001B[39;49m\u001B[38;5;124;43m\"\u001B[39;49m\u001B[38;5;124;43mC:\u001B[39;49m\u001B[38;5;124;43m\\\u001B[39;49m\u001B[38;5;124;43mUsers\u001B[39;49m\u001B[38;5;124;43m\\\u001B[39;49m\u001B[38;5;124;43mfelix\u001B[39;49m\u001B[38;5;124;43m\\\u001B[39;49m\u001B[38;5;124;43mOneDrive\u001B[39;49m\u001B[38;5;124;43m\\\u001B[39;49m\u001B[38;5;124;43mDokumente\u001B[39;49m\u001B[38;5;124;43m\\\u001B[39;49m\u001B[38;5;124;43mBRCA1_HUMAN_Findlay_2018.csv\u001B[39;49m\u001B[38;5;124;43m\"\u001B[39;49m\u001B[43m)\u001B[49m\n\u001B[0;32m      2\u001B[0m brca_raw\u001B[38;5;241m=\u001B[39mpd\u001B[38;5;241m.\u001B[39mread_csv(brca_raw)\n\u001B[0;32m      3\u001B[0m \u001B[38;5;28mprint\u001B[39m(brca_raw)\n",
      "File \u001B[1;32m~\\mambaforge\\lib\\site-packages\\IPython\\core\\interactiveshell.py:284\u001B[0m, in \u001B[0;36m_modified_open\u001B[1;34m(file, *args, **kwargs)\u001B[0m\n\u001B[0;32m    277\u001B[0m \u001B[38;5;28;01mif\u001B[39;00m file \u001B[38;5;129;01min\u001B[39;00m {\u001B[38;5;241m0\u001B[39m, \u001B[38;5;241m1\u001B[39m, \u001B[38;5;241m2\u001B[39m}:\n\u001B[0;32m    278\u001B[0m     \u001B[38;5;28;01mraise\u001B[39;00m \u001B[38;5;167;01mValueError\u001B[39;00m(\n\u001B[0;32m    279\u001B[0m         \u001B[38;5;124mf\u001B[39m\u001B[38;5;124m\"\u001B[39m\u001B[38;5;124mIPython won\u001B[39m\u001B[38;5;124m'\u001B[39m\u001B[38;5;124mt let you open fd=\u001B[39m\u001B[38;5;132;01m{\u001B[39;00mfile\u001B[38;5;132;01m}\u001B[39;00m\u001B[38;5;124m by default \u001B[39m\u001B[38;5;124m\"\u001B[39m\n\u001B[0;32m    280\u001B[0m         \u001B[38;5;124m\"\u001B[39m\u001B[38;5;124mas it is likely to crash IPython. If you know what you are doing, \u001B[39m\u001B[38;5;124m\"\u001B[39m\n\u001B[0;32m    281\u001B[0m         \u001B[38;5;124m\"\u001B[39m\u001B[38;5;124myou can use builtins\u001B[39m\u001B[38;5;124m'\u001B[39m\u001B[38;5;124m open.\u001B[39m\u001B[38;5;124m\"\u001B[39m\n\u001B[0;32m    282\u001B[0m     )\n\u001B[1;32m--> 284\u001B[0m \u001B[38;5;28;01mreturn\u001B[39;00m io_open(file, \u001B[38;5;241m*\u001B[39margs, \u001B[38;5;241m*\u001B[39m\u001B[38;5;241m*\u001B[39mkwargs)\n",
      "\u001B[1;31mFileNotFoundError\u001B[0m: [Errno 2] No such file or directory: 'C:\\\\Users\\\\felix\\\\OneDrive\\\\Dokumente\\\\BRCA1_HUMAN_Findlay_2018.csv'"
     ]
    }
   ],
   "source": [
    "brca_raw=open(r\"C:\\Users\\felix\\OneDrive\\Dokumente\\BRCA1_HUMAN_Findlay_2018.csv\")\n",
    "brca_raw=pd.read_csv(brca_raw)\n",
    "print(brca_raw)"
   ]
  },
  {
   "cell_type": "code",
   "execution_count": null,
   "id": "09507b79",
   "metadata": {},
   "outputs": [],
   "source": [
    "dmssort = sorted(brca_raw.DMS_score) \n",
    "dmssort"
   ]
  },
  {
   "cell_type": "code",
   "execution_count": null,
   "id": "617fb952",
   "metadata": {},
   "outputs": [],
   "source": [
    "testsort=brca_raw\n",
    "testsort = testsort.sort_values(by='DMS_score',ascending=True)\n",
    "testsort"
   ]
  },
  {
   "cell_type": "code",
   "execution_count": null,
   "id": "14c93b5d",
   "metadata": {},
   "outputs": [],
   "source": [
    "import re \n",
    "\n",
    "def get_number_from_text(text):\n",
    "    return re.findall(r'\\d{1,4}',text)[0]\n",
    "brca_raw['position']=brca_raw['mutant'].apply(get_number_from_text)\n",
    "brca_raw"
   ]
  },
  {
   "cell_type": "code",
   "execution_count": null,
   "id": "2e9e7d2e",
   "metadata": {},
   "outputs": [],
   "source": [
    "old_aa=[]\n",
    "\n",
    "for x in range (0,1837):\n",
    "    old_aa.append(brca_raw.mutant[x][0])\n"
   ]
  },
  {
   "cell_type": "code",
   "execution_count": null,
   "id": "86274a47",
   "metadata": {},
   "outputs": [],
   "source": [
    "brca_raw[\"old_aa\"] = old_aa\n",
    "brca_raw"
   ]
  },
  {
   "cell_type": "code",
   "execution_count": null,
   "id": "bb71656b",
   "metadata": {},
   "outputs": [],
   "source": [
    "test1=brca_raw.mutant.str.extract(r'(\\d)([ARNDCQEGHILKTMPSTWYV])')\n",
    "test1"
   ]
  },
  {
   "cell_type": "code",
   "execution_count": null,
   "id": "e6368e77",
   "metadata": {},
   "outputs": [],
   "source": [
    "new_aa=test1[1]\n",
    "new_aa"
   ]
  },
  {
   "cell_type": "code",
   "execution_count": null,
   "id": "978ad757",
   "metadata": {},
   "outputs": [],
   "source": [
    "brca_raw[\"new_aa\"]=new_aa\n",
    "brca_raw"
   ]
  },
  {
   "cell_type": "code",
   "execution_count": null,
   "id": "2f2e1b63",
   "metadata": {},
   "outputs": [],
   "source": [
    "df_hm=brca_raw[[\"position\", \"new_aa\"]]\n",
    "df_hm"
   ]
  },
  {
   "cell_type": "code",
   "execution_count": null,
   "id": "f8c6af94",
   "metadata": {},
   "outputs": [],
   "source": [
    "print(brca_raw)"
   ]
  },
  {
   "cell_type": "code",
   "execution_count": null,
   "id": "f172c343",
   "metadata": {},
   "outputs": [],
   "source": [
    "from matplotlib.colors import ListedColormap\n",
    "%matplotlib inline\n",
    "\n",
    "print(brca_raw.new_aa)"
   ]
  },
  {
   "cell_type": "code",
   "execution_count": null,
   "id": "83885080",
   "metadata": {},
   "outputs": [],
   "source": [
    "color = []\n",
    "for x in brca_raw.new_aa:\n",
    "\n",
    "    if x == \"V\"   :\n",
    "        color.append(\"blue\")\n",
    "    else: color.append(\"red\")\n",
    "\n",
    "plt.scatter(brca_raw.position, brca_raw.DMS_score, s=3*3, c=color)\n",
    "print(plt.scatter)"
   ]
  },
  {
   "cell_type": "code",
   "execution_count": null,
   "id": "2bf42cf0",
   "metadata": {},
   "outputs": [],
   "source": [
    "brca_low=brca_raw[brca_raw.DMS_score_bin==0]\n"
   ]
  },
  {
   "cell_type": "code",
   "execution_count": null,
   "id": "2099aeb1",
   "metadata": {},
   "outputs": [],
   "source": [
    "plt.figure(figsize=(30,5))\n",
    "plt.scatter(brca_low.position, brca_low.DMS_score, s=3*3)"
   ]
  },
  {
   "cell_type": "code",
   "execution_count": null,
   "id": "949ad0dd",
   "metadata": {},
   "outputs": [],
   "source": [
    "aminoacids=(\"A\",\"R\",\"N\",\"D\",\"C\",\"Q\",\"E\",\"G\",\"H\",\"I\",\"L\",\"K\",\"T\",\"M\",\"P\",\"S\",\"T\",\"W\",\"Y\",\"V\")\n",
    "\n",
    "data_sorted_new_aa=[]\n",
    "for x in aminoacids:\n",
    "    for y in aminoacids:\n",
    "        data_sorted_new_aa.append(brca_raw[(x==brca_raw.new_aa) &( y==brca_raw.old_aa)])\n",
    "    \n",
    "data_sorted_new_aa\n"
   ]
  },
  {
   "cell_type": "code",
   "execution_count": null,
   "id": "fb767bd4",
   "metadata": {},
   "outputs": [],
   "source": [
    "y=len(data_sorted_new_aa)\n",
    "\n",
    "for x in range(0,y):\n",
    "    if data_sorted_new_aa[x].empty:\n",
    "        del(data_sorted_new_aa[x])\n",
    "    y=len(data_sorted_new_aa)\n",
    "\n",
    "data_sorted_new_aa\n"
   ]
  },
  {
   "cell_type": "code",
   "execution_count": null,
   "id": "01798252",
   "metadata": {},
   "outputs": [],
   "source": [
    "for x in range (0,len(data_sorted_new_aa)):\n",
    "    if data_sorted_new_aa[x].new_aa.first==\"A\":\n",
    "        print(\"e\")"
   ]
  },
  {
   "cell_type": "code",
   "execution_count": null,
   "id": "ec3481a4",
   "metadata": {},
   "outputs": [],
   "source": [
    "for x in range (0,len(data_sorted_new_aa)):\n",
    "    if data_sorted_new_aa[x].new_aa[0]==\"A\":\n",
    "        print(\"e\")"
   ]
  },
  {
   "cell_type": "code",
   "execution_count": null,
   "id": "f0a7dd1a",
   "metadata": {},
   "outputs": [],
   "source": [
    "aminoacids=(\"A\",\"R\",\"N\",\"D\",\"C\",\"Q\",\"E\",\"G\",\"H\",\"I\",\"L\",\"K\",\"T\",\"M\",\"P\",\"S\",\"T\",\"W\",\"Y\",\"V\")\n",
    "\n",
    "new_df=[]\n",
    "for x in aminoacids:\n",
    "    for y in aminoacids:\n",
    "        new_df.append(brca_raw[(x==brca_raw.new_aa) &( y==brca_raw.old_aa)].DMS_score.mean())\n",
    "    \n",
    "new_df    "
   ]
  },
  {
   "cell_type": "code",
   "execution_count": null,
   "id": "a2eeb78b",
   "metadata": {},
   "outputs": [],
   "source": [
    "import pandas\n",
    "\n",
    "y=[]\n",
    "\n",
    "for x in range (0, len(new_df)):\n",
    "    if pandas.notna(new_df[x]):\n",
    "        y.append(new_df[x])\n",
    "y        "
   ]
  },
  {
   "cell_type": "code",
   "execution_count": null,
   "id": "83294f84",
   "metadata": {},
   "outputs": [],
   "source": [
    "import pandas\n",
    "\n",
    "for x in range (0, len(new_df)):\n",
    "    if pandas.notna(new_df[x]):\n",
    "        print(\"e\")"
   ]
  },
  {
   "cell_type": "code",
   "execution_count": null,
   "id": "3fdbde86",
   "metadata": {},
   "outputs": [],
   "source": [
    "aminoacids=(\"A\",\"R\",\"N\",\"D\",\"C\",\"Q\",\"E\",\"G\",\"H\",\"I\",\"L\",\"K\",\"T\",\"M\",\"P\",\"S\",\"T\",\"W\",\"Y\",\"V\")\n",
    "\n",
    "for x in aminoacids:\n",
    "    df_x=brca_raw[x==brca_raw.new_aa]\n",
    "    \n",
    "df_x\n",
    "len(new_df)\n",
    "new_df[3]"
   ]
  },
  {
   "cell_type": "code",
   "execution_count": null,
   "id": "4d613206",
   "metadata": {},
   "outputs": [],
   "source": [
    "for x in range (0,len(new_df)):\n",
    "    print(x)\n",
    "    if new_df.empty:\n",
    "        del new_df[x]\n",
    "        \n",
    "len(new_df)"
   ]
  },
  {
   "cell_type": "code",
   "execution_count": null,
   "id": "cc96fb60",
   "metadata": {},
   "outputs": [],
   "source": [
    "aa_DMS_score_means=[]\n",
    "\n",
    "for x in [0,401]:\n",
    "    aa_DMS_score_means.append(new_df[x].DMS_score.mean())\n",
    "    \n",
    "    \n",
    "aa_DMS_score_means    "
   ]
  },
  {
   "cell_type": "code",
   "execution_count": null,
   "id": "c8456c6d",
   "metadata": {},
   "outputs": [],
   "source": [
    "len(aa_DMS_score_means)"
   ]
  },
  {
   "cell_type": "code",
   "execution_count": 25,
   "outputs": [],
   "source": [
    "fasta_file = {}\n",
    "key = None\n",
    "value = ['']\n",
    "with open(r\"C:\\Users\\felix\\OneDrive\\Desktop\\aln-fasta_final.txt\",'r') as f:\n",
    "    for line in f:\n",
    "        if line.startswith('>'):\n",
    "            fasta_file[key] = \"\".join(value)\n",
    "            reading=True\n",
    "            key = line.strip()\n",
    "            value = []\n",
    "            continue\n",
    "        else:\n",
    "            value.append(line.strip())"
   ],
   "metadata": {
    "collapsed": false,
    "ExecuteTime": {
     "end_time": "2023-07-15T13:32:59.242895600Z",
     "start_time": "2023-07-15T13:32:59.220198300Z"
    }
   }
  },
  {
   "cell_type": "code",
   "execution_count": null,
   "outputs": [],
   "source": [
    "#create sequence logo with full sequence\n",
    "\n",
    "import matplotlib.pyplot as plt\n",
    "\n",
    "def create_sequence_logo(sequence_data, split_positions=None, columns=1, figsize=(16, 8), scaling_factor=0.04):\n",
    "\n",
    "    amino_acids_to_plot = ['-',\"A\",\"R\",\"N\",\"D\",\"C\",\"Q\",\"E\",\"G\",\"H\",\"I\",\"L\",\"K\",\"M\",\"F\",\"P\",\"S\",\"T\",\"W\",\"Y\",\"V\",'X']\n",
    "    # Filter out empty sequences\n",
    "    sequence_data = {k: v for k, v in sequence_data.items() if v}\n",
    "\n",
    "    # Calculate the maximum length of the sequences\n",
    "    max_length = max(len(seq) for seq in sequence_data.values())\n",
    "\n",
    "    # Create a dictionary to store the frequency of each amino acid at each position\n",
    "    amino_acid_frequencies = {aa: [0] * max_length for aa in amino_acids_to_plot}\n",
    "\n",
    "    # Iterate over the sequences and update the amino acid frequencies\n",
    "    for sequence in sequence_data.values():\n",
    "        for i, aa in enumerate(sequence):\n",
    "            amino_acid_frequencies[aa][i] += 1\n",
    "\n",
    "    # Determine the splitting positions\n",
    "    if split_positions is None:\n",
    "        split_positions = [0, max_length]\n",
    "\n",
    "    # Adjust the number of columns if needed\n",
    "    num_plots = len(split_positions) - 1\n",
    "    rows = num_plots // columns + (num_plots % columns > 0)\n",
    "\n",
    "    # Create subplots with increased vertical gap\n",
    "    fig, axs = plt.subplots(rows, columns, figsize=figsize, squeeze=False, gridspec_kw={'hspace': 0.5})\n",
    "    axs = axs.ravel()\n",
    "\n",
    "    # Plotting the amino acid frequencies by position for each subset\n",
    "    term = False\n",
    "    for i, ax in enumerate(axs):\n",
    "        start = split_positions[i]\n",
    "\n",
    "        if i == num_plots-1:  # Handle the last subset separately\n",
    "            print('end')\n",
    "            end = max_length\n",
    "            term = True\n",
    "\n",
    "        else:\n",
    "            end = split_positions[i + 1]\n",
    "        subset_data = {k: v[start:end] for k, v in sequence_data.items()}\n",
    "\n",
    "        # Plotting the amino acid frequencies by position for each amino acid\n",
    "        for aa in amino_acids_to_plot:\n",
    "            frequencies = amino_acid_frequencies[aa][start:end]\n",
    "\n",
    "            if any(frequencies):\n",
    "                ax.plot(range(1, len(frequencies) + 1), [f * scaling_factor for f in frequencies], label=aa)\n",
    "\n",
    "        ax.set_xlim(1, end - start + 1)\n",
    "        ax.set_xticks(range(1, end - start + 1))\n",
    "        ax.set_xticklabels(range(start + 1, end + 1))\n",
    "        ax.set_xlabel('Position')\n",
    "        ax.set_ylabel('Frequency')\n",
    "\n",
    "        ax.set_title(f\"Sequence Logo - Position {start+1}-{end}\")\n",
    "        if term:\n",
    "            break\n",
    "    # Create a single legend outside the loop\n",
    "    handles, labels = ax.get_legend_handles_labels()\n",
    "    fig.legend(handles, labels, loc='center', ncol=1)\n",
    "#     fig.legend(handles, labels,  loc=(1.04, 0))\n",
    "\n",
    "#     plt.tight_layout()\n",
    "    plt.show()\n",
    "\n",
    "split_positions = [0,  max(len(seq) for seq in fasta_file.values())]  # Manually specify splitting positions\n",
    "\n",
    "create_sequence_logo(fasta_file, split_positions=split_positions, columns=2, figsize=(150, 10), scaling_factor=0.011)"
   ],
   "metadata": {
    "collapsed": false
   }
  },
  {
   "cell_type": "code",
   "execution_count": null,
   "id": "5fbc37d3",
   "metadata": {},
   "outputs": [],
   "source": [
    "#create sequence logo with split sequence\n",
    "import matplotlib.pyplot as plt\n",
    "\n",
    "def create_sequence_logo(sequence_data, split_positions=None, columns=1, figsize=(16, 8), scaling_factor=0.04):\n",
    "\n",
    "    amino_acids_to_plot = ['-',\"A\",\"R\",\"N\",\"D\",\"C\",\"Q\",\"E\",\"G\",\"H\",\"I\",\"L\",\"K\",\"M\",\"F\",\"P\",\"S\",\"T\",\"W\",\"Y\",\"V\",'X']\n",
    "    # Filter out empty sequences\n",
    "    sequence_data = {k: v for k, v in sequence_data.items() if v}\n",
    "\n",
    "    # Calculate the maximum length of the sequences\n",
    "    max_length = max(len(seq) for seq in sequence_data.values())\n",
    "\n",
    "    # Create a dictionary to store the frequency of each amino acid at each position\n",
    "    amino_acid_frequencies = {aa: [0] * max_length for aa in amino_acids_to_plot}\n",
    "\n",
    "    # Iterate over the sequences and update the amino acid frequencies\n",
    "    for sequence in sequence_data.values():\n",
    "        for i, aa in enumerate(sequence):\n",
    "            amino_acid_frequencies[aa][i] += 1\n",
    "\n",
    "    # Determine the splitting positions\n",
    "    if split_positions is None:\n",
    "        split_positions = [0, max_length]\n",
    "\n",
    "    # Adjust the number of columns if needed\n",
    "    num_plots = len(split_positions) - 1\n",
    "    rows = num_plots // columns + (num_plots % columns > 0)\n",
    "\n",
    "    # Create subplots with increased vertical gap\n",
    "    fig, axs = plt.subplots(rows, columns, figsize=figsize, squeeze=False, gridspec_kw={'hspace': 0.5})\n",
    "    axs = axs.ravel()\n",
    "\n",
    "    # Plotting the amino acid frequencies by position for each subset\n",
    "    term = False\n",
    "    for i, ax in enumerate(axs):\n",
    "        start = split_positions[i]\n",
    "\n",
    "        if i == num_plots-1:  # Handle the last subset separately\n",
    "            print('end')\n",
    "            end = max_length\n",
    "            term = True\n",
    "\n",
    "        else:\n",
    "            end = split_positions[i + 1]\n",
    "        subset_data = {k: v[start:end] for k, v in sequence_data.items()}\n",
    "\n",
    "        # Plotting the amino acid frequencies by position for each amino acid\n",
    "        for aa in amino_acids_to_plot:\n",
    "            frequencies = amino_acid_frequencies[aa][start:end]\n",
    "\n",
    "            if any(frequencies):\n",
    "                ax.plot(range(1, len(frequencies) + 1), [f * scaling_factor for f in frequencies], label=aa)\n",
    "\n",
    "        ax.set_xlim(1, end - start + 1)\n",
    "        ax.set_xticks(range(1, end - start + 1))\n",
    "        ax.set_xticklabels(range(start + 1, end + 1))\n",
    "        ax.set_xlabel('Position')\n",
    "        ax.set_ylabel('Frequency')\n",
    "\n",
    "        ax.set_title(f\"Sequence Logo - Position {start+1}-{end}\")\n",
    "        if term:\n",
    "            break\n",
    "    # Create a single legend outside the loop\n",
    "    handles, labels = ax.get_legend_handles_labels()\n",
    "    fig.legend(handles, labels, loc='center', ncol=1)\n",
    "#     fig.legend(handles, labels,  loc=(1.04, 0))\n",
    "\n",
    "#     plt.tight_layout()\n",
    "    plt.show()\n",
    "\n",
    "split_positions = [0, 100, 200, 300, 400, 500, 600, 700, 800, 900, 1000, 1100, 1200, 1300, 1400, 1500, 1600, 1700, 1800, 1900, 2000, 2100, 2200, max(len(seq) for seq in fasta_file.values())]  # Manually specify splitting positions\n",
    "\n",
    "create_sequence_logo(fasta_file, split_positions=split_positions, columns=2, figsize=(50, 30), scaling_factor=0.011)"
   ]
  },
  {
   "cell_type": "code",
   "execution_count": 27,
   "outputs": [
    {
     "data": {
      "text/plain": "'---------------------------------------------------------------------------------------------------------------------MDLSADRVEEVQNVLNAMQK---ILECPICLELIKEPVSTKCD-HIFCK---------FCMLKLLNQKKGPSQCPLCKNDITKRSLQESTRFSQLVEELLKIIHAFELD---TGLQFAN-SYNFSKK-ENNSPEHLK-EEVSIIQSMGYRNRAKRLRQSEPENPTL--------QETSLSVQLSNLGIVRSLRTKQQIQPQNKSVYIELGSDSSEDTVNKASYCSVGDQELLQITPQGARAET---------------SLNSAKK--AACEFSEKDITNTEHHQSSNKDLNTTE-KHATERHPEKYQGISVSNLHVEPCGTNTHASSLQHENSSLLLTKDRMNVEKAEFCNKSKQPGLARSQQSRWAESKETCNDRQTPSTEKKVDLNADPLYGRKELNKQKPPCSESPRD-SQDVPWITLNSSIQKVNEWFSRSDELLTSD-DSHDGGSESNAEVAGALEV-------------------PNEVDGYSGSSEKIDLLASDPHEALICKSERVHSKPVESNIEDKIFGKTYRRKASLPNLSHV--TENLIIGAFVTEPQI-TQERPLTNKLKRKRRTTSGLHPEDFIKKADLAVVQKTPEKINQGTDQMEQNGQVMNITNNGHENKTKGDYVQKEKNANPTESLEKESAFRTKAEPISSSISNMELELNIHSSKAPKKNRLRRKSSTRHIHALELVVSRNPSPPNHTELQIDSCSSSEEMKK-KNSNQMPVRHSRKLQLMEDKEPATGAKKSNKPNEQISKRLASDTFPELKLTNVPGSFTNCSSSNKLQEFVNPSLQREEKEEKLETIQVSNSTKDPKDLMLSGG-RVLQTE---RSVESTSISLVPDTDYGTQDSISLLEADTLGKAKT-APNQCVSQCAAIENPKELIHGCSKDTRNDTEGFKDPLGHEVNH-SQETSIEMEESELDTQYLQNTFKVSKRQSFALFSNPGNPEKECATVSAHSRSLRKQSPKVTLECEQKEENQGKK-ESNIKHVQAVNTTAGFPVVCQKDKKPGDYAKCS--IKGGSRLCQSSQFRGNETELITANKHGISQNPYHIPPLSPIRSSVKTKCKKNLSEEKFEEHSMSPERAVGNENIIQSTVSTISQNNIRENAFKEASSSSINEVGSST-------NEVGSSINEVGSSGENIQAELGRNRGPKLNAMLRLGLMQPEVYKQSLPVSNCKHPEIKRQGENEGVVQAVNADFSPCLISDNLEQPMGSSHASQVCSETPDDLLDD--DEIKENTSFAESDIKERSAVFSKSVQRGEFRRSPSPFTH-THLAQGHQ-RGARKLESSEENLSSEDEELPCFQHLLFGKVTNTPS-QSTRHSTVATEGLSKKTEENLLSLKNSLNDC--SNQVILAKASQEHHLSEEARCSGSLFSSQCSALEDLTANT--------NTQDPFLMFDPPSKQMRHQSESQEVL-SDKELVSDD----EERETGLEEDN-QEEQSVDSN-LGEAASGYESETSLSEDCSGLSSQSDILTTQ-------QRDTMQDNLIKLQQEMAELEAVLEQHGSQPS-NSSPSLIADSCA--PEDLLNPEQNTSEK---------------------AVLTSEKSSEYPISQNPESLSADKFQVSLDSSTSK-NKEPGMER---------------------SSPSKSQLL-DDRWYVHSHSRSLQNRNCPSQEELIKVVDVEEQQLEKS-------------EPQDLMEQSYLPRQDLEGTP-YLESGISLFSDDPESDPSEDRAPEPAHVGSMPSSTSALKLPQFQVAESAKSPAAAHTTNTAGYNAREESVSREKPELTSSTER-VNKRISMVASGLTPKEFMLVQKFARKHHITLTNLITEETTHVIMKTDAEFVCERTLKYFLGIAGGKWVVSYFWVTQSIKERKMLDEHDFEVRGDVVNGRNHQGPKRARES-----QDRKIFRGLEICCYGPFTNMPT-------------------------------------------------------------------------DQLEWMVQLCGASVVKEPSSFTLGTG---THPVVVVQPDAWTEDSGFHAIGQMCEAPVVTREWVLDSVALYQCQELDT---YLIPQIPHSHY-----------------------------------'"
     },
     "execution_count": 27,
     "metadata": {},
     "output_type": "execute_result"
    }
   ],
   "source": [
    "#create a consensus sequence\n",
    "\n",
    "def create_consensus_sequence(sequence_data):\n",
    "    # Filter out empty sequences\n",
    "    sequence_data = {k: v for k, v in sequence_data.items() if v}\n",
    "\n",
    "    # Calculate the maximum length of the sequences\n",
    "    max_length = max(len(seq) for seq in sequence_data.values())\n",
    "\n",
    "    # Create a dictionary to store the frequency of each amino acid at each position\n",
    "    amino_acid_frequencies = {aa: [0] * max_length for aa in set(''.join(sequence_data.values()))}\n",
    "\n",
    "    # Iterate over the sequences and update the amino acid frequencies\n",
    "    for sequence in sequence_data.values():\n",
    "        for i, aa in enumerate(sequence):\n",
    "            amino_acid_frequencies[aa][i] += 1\n",
    "\n",
    "    # Create the consensus sequence\n",
    "    consensus_sequence = ''\n",
    "    for i in range(max_length):\n",
    "        max_frequency = 0\n",
    "        max_amino_acid = ''\n",
    "        for aa, frequencies in amino_acid_frequencies.items():\n",
    "            frequency = frequencies[i]\n",
    "            if frequency > max_frequency:\n",
    "                max_frequency = frequency\n",
    "                max_amino_acid = aa\n",
    "        consensus_sequence += max_amino_acid\n",
    "\n",
    "    return consensus_sequence\n",
    "\n",
    "\n",
    "\n",
    "consensus_sequence = create_consensus_sequence(fasta_file)\n",
    "consensus1=create_consensus_sequence(fasta_file)\n",
    "consensus1\n"
   ],
   "metadata": {
    "collapsed": false,
    "ExecuteTime": {
     "end_time": "2023-07-15T13:33:55.687414100Z",
     "start_time": "2023-07-15T13:33:55.596672900Z"
    }
   }
  },
  {
   "cell_type": "code",
   "execution_count": 6,
   "outputs": [],
   "source": [
    "brca_human=\"---------------------------------------------------------------------------------------------------------------------MDLSALRVEEVQNVINAMQK---ILECPICLELIKEPVSTKCD-HIFCK---------FCMLKLLNQKKGPSQCPLCKNDITKRSLQESTRFSQLVEELLKIICAFQLD---TGLEYAN-SYNFAKK-ENNSPEHLK-DEVSIIQSMGYRNRAKRLLQSEPENPSL--------QETSLSVQLSNLGTVRTLRTKQRIQPQKTSVYIELGSDSSEDTVNKATYCSVGDQELLQITPQGTRDEI---------------SLDSAKK--AACEFSETDVTNTEHHQPSNNDLNTTE-KRAAERHPEKYQGSSVSNLHVEPCGTNTHASSLQHENSSLLLTKDRMNVEKAEFCNKSKQPGLARSQHNRWAGSKETCNDRRTPSTEKKVDLNADPLCERKEWNKQKLPCSENPRD-TEDVPWITLNSSIQKVNEWFSRSDELLGSD-DSHDGESESNAKVADVLDV-------------------LNEVDEYSGSSEKIDLLASDPHEALICKSERVHSKSVESNIEDKIFGKTYRKKASLPNLSHV--TENLIIGAFVTEPQI-IQERPLTNKLKRKRRPTSGLHPEDFIKKADLAV-QKTPEMINQGTNQTEQNGQVMNITNSGHENKTKGDSIQNEKNPNPIESLEKESAFKTKAEPISSSISNMELELNIHNSKAPKKNRLRRKSSTRHIHALELVVSRNLSPPNCTELQIDSCSSSEEIKK-KKYNQMPVRHSRNLQLMEGKEPATGAKKSNKPNEQTSKRHDSDTFPELKLTNAPGSFTKCSNTSELKEFVNPSLPREEKEEKLETVKVSNNAEDPKDLMLSGE-RVLQTE---RSVESSSISLVPGTDYGTQESISLLEVSTLGKAKT-EPNKCVSQCAAFENPKGLIHGCSKDNRNDTEGFKYPLGHEVNH-SRETSIEMEESELDAQYLQNTFKVSKRQSFAPFSNPGNAEEECATFSAHSGSLKKQSPKVTFECEQKEENQGKN-ESNIKPVQTVNITAGFPVVGQKDKP-VDNAKCS--IKGGSRFCLSSQFRGNETGLITPNKHGLLQNPYRIPPLFPIKSFVKTKCKKNLLEENFEEHSMSPEREMGNEN-IPSTVSTISRNNIRENVFKEASSSNINEVGSST-------NEVGSSINEIGSSDENIQAELGRNRGPKLNAMLRLGVLQPEVYKQSLPGSNCKHPEIKKQEY-EEVVQTVNTDFSPYLISDNLEQPMGSSHASQVCSETPDDLLDD--GEIKEDTSFAENDIKESSAVFSKSVQKGELSRSPSPFTH-THLAQGYR-RGAKKLESSEENLSSEDEELPCFQHLLFGKVNNIPS-QSTRHSTVATECLSKNTEENLLSLKNSLNDC--SNQVILAKASQEHHLSEETKCSASLFSSQCSELEDLTANT--------NTQDPFLIG--SSKQMRHQSESQGVGLSDKELVSDD----EERGTGLEENN-QEEQSMDSN-LGEAASGCESETSVSEDCSGLSSQSDILTTQ-------QRDTMQHNLIKLQQEMAELEAVLEQHGSQPS-NSYPSIISDSSA--LEDLRNPEQSTSEK---------------------AVLTSQKSSEYPISQNPEGLSADKFEVSADSSTSK-NKEPGVER---------------------SSPSKCPSL-DDRWYMHSCSGSLQNRNYPSQEELIKVVDVEEQQLEES-------------GPHDLTETSYLPRQDLEGTP-YLESGISLFSDDPESDPSEDRAPESARVGNIPSSTSALKVPQLKVAESAQSPAAAHTTDTAGYNAMEESVSREKPELTASTER-VNKRMSMVVSGLTPEEFMLVYKFARKHHITLTNLITEETTHVVMKTDAEFVCERTLKYFLGIAGGKWVVSYFWVTQSIKERKMLNEHDFEVRGDVVNGRNHQGPKRARES-----QDRKIFRGLEICCYGPFTNMPT-------------------------------------------------------------------------DQLEWMVQLCGASVVKELSSFTLGTG---VHPIVVVQPDAWTEDNGFHAIGQMCEAPVVTREWVLDSVALYQCQELDT---YLIPQIPHSHY-----------------------------------\""
   ],
   "metadata": {
    "collapsed": false,
    "ExecuteTime": {
     "end_time": "2023-07-15T13:13:54.454120400Z",
     "start_time": "2023-07-15T13:13:54.449094Z"
    }
   }
  },
  {
   "cell_type": "code",
   "execution_count": null,
   "outputs": [],
   "source": [
    "import matplotlib.pyplot as plt\n",
    "\n",
    "def compare_sequences(consensus_sequence, other_sequence, split_positions=None, columns=1, figsize=(16, 8)):\n",
    "    # Check if the sequences have the same length\n",
    "    if len(consensus_sequence) != len(other_sequence):\n",
    "        print(\"Sequences have different lengths.\")\n",
    "        return\n",
    "\n",
    "    # Determine the splitting positions\n",
    "    if split_positions is None:\n",
    "        split_positions = [0, len(consensus_sequence)]\n",
    "\n",
    "    # Adjust the number of columns if needed\n",
    "    num_plots = len(split_positions) - 1\n",
    "    rows = num_plots // columns + (num_plots % columns > 0)\n",
    "\n",
    "    # Create subplots\n",
    "    fig, axs = plt.subplots(rows, columns, figsize=figsize, squeeze=False)\n",
    "    axs = axs.ravel()\n",
    "\n",
    "    # Iterate over the subsets\n",
    "    for i, ax in enumerate(axs):\n",
    "        start = split_positions[i]\n",
    "        end = split_positions[i + 1]\n",
    "\n",
    "        # Create a plot to visualize the sequences within the subset\n",
    "        for j in range(start, end):\n",
    "            consensus_aa = consensus_sequence[j]\n",
    "            other_aa = other_sequence[j]\n",
    "            if consensus_aa == other_aa:\n",
    "                ax.text(j - start, 0.5, consensus_aa, color='green', fontsize=60, ha='center')\n",
    "            else:\n",
    "                ax.text(j - start, 0.7, consensus_aa, color='green', fontsize=60, ha='center')\n",
    "                ax.text(j - start, 0.3, other_aa, color='red', fontsize=60, ha='center')\n",
    "\n",
    "        # Set plot properties for each subset\n",
    "        ax.set_xlim(-0.5, end - start - 0.5)\n",
    "        ax.set_ylim(0, 1)\n",
    "        ax.set_xticks(range(end - start))\n",
    "        ax.set_yticks([])\n",
    "        ax.set_xlabel('Position')\n",
    "        ax.set_title(f'Subset {i+1}')\n",
    "\n",
    "    plt.tight_layout()\n",
    "    plt.show()\n",
    "\n",
    "# Example usage:\n",
    "\n",
    "split_positions = [0, len(consensus_sequence)]  # Manually specify splitting positions\n",
    "\n",
    "compare_sequences(consensus1, brca_human, split_positions=split_positions, columns=2, figsize=(200, 30))\n"
   ],
   "metadata": {
    "collapsed": false
   }
  },
  {
   "cell_type": "code",
   "execution_count": null,
   "outputs": [],
   "source": [
    "import matplotlib.pyplot as plt\n",
    "\n",
    "def compare_sequences(consensus_sequence, other_sequence, split_positions=None, columns=1, figsize=(16, 8)):\n",
    "    # Check if the sequences have the same length\n",
    "    if len(consensus_sequence) != len(other_sequence):\n",
    "        print(\"Sequences have different lengths.\")\n",
    "        return\n",
    "\n",
    "    # Determine the splitting positions\n",
    "    if split_positions is None:\n",
    "        split_positions = [0, len(consensus_sequence)]\n",
    "\n",
    "    # Adjust the number of columns if needed\n",
    "    num_plots = len(split_positions) - 1\n",
    "    rows = num_plots // columns + (num_plots % columns > 0)\n",
    "\n",
    "    # Create subplots\n",
    "    fig, axs = plt.subplots(rows, columns, figsize=figsize, squeeze=False)\n",
    "    axs = axs.ravel()\n",
    "\n",
    "    # Iterate over the subsets\n",
    "    for i, ax in enumerate(axs):\n",
    "        start = split_positions[i]\n",
    "        end = split_positions[i + 1]\n",
    "\n",
    "        # Create a plot to visualize the sequences within the subset\n",
    "        for j in range(start, end):\n",
    "            consensus_aa = consensus_sequence[j]\n",
    "            other_aa = other_sequence[j]\n",
    "            if consensus_aa == other_aa:\n",
    "                ax.text(j - start, 0.5, consensus_aa, color='green', fontsize=20, ha='center')\n",
    "            else:\n",
    "                ax.text(j - start, 0.7, consensus_aa, color='green', fontsize=20, ha='center')\n",
    "                ax.text(j - start, 0.3, other_aa, color='red', fontsize=20, ha='center')\n",
    "\n",
    "        # Set plot properties for each subset\n",
    "        ax.set_xlim(-0.5, end - start - 0.5)\n",
    "        ax.set_ylim(0, 1)\n",
    "        ax.set_xticks(range(end - start))\n",
    "        ax.set_yticks([])\n",
    "        ax.set_xlabel('Position')\n",
    "        ax.set_title(f'Subset {i+1}')\n",
    "\n",
    "    plt.tight_layout()\n",
    "    plt.show()\n",
    "\n",
    "# Example usage:\n",
    "\n",
    "split_positions = [0, 100, 200, 300, 400, 500, 600, 700, 800, 900, 1000, 1100, 1200, 1300, 1400, 1500, 1600, 1700, 1800, 1900, 2000, 2100, 2200, len(consensus_sequence)]  # Manually specify splitting positions\n",
    "\n",
    "compare_sequences(consensus1, brca_human, split_positions=split_positions, columns=2, figsize=(50, 30))\n"
   ],
   "metadata": {
    "collapsed": false
   }
  },
  {
   "cell_type": "code",
   "execution_count": null,
   "outputs": [],
   "source": [
    "split_positions = [0, 100, 200, 300, 400, 500, 600, 700, 800, 900, 1000, 1100, 1200, 1300, 1400, 1500, 1600, 1700, 1800, 1900, 2000, 2100, 2200, len(consensus_sequence)]  # Manually specify splitting positions"
   ],
   "metadata": {
    "collapsed": false
   }
  },
  {
   "cell_type": "code",
   "execution_count": null,
   "outputs": [],
   "source": [
    "206/len(brca_human)"
   ],
   "metadata": {
    "collapsed": false
   }
  },
  {
   "cell_type": "code",
   "execution_count": 28,
   "outputs": [],
   "source": [
    "def split_sequence_by_position(sequence, positions):\n",
    "    subsets = []\n",
    "    subset = \"\"\n",
    "    pos = 0\n",
    "\n",
    "    for aa in sequence:\n",
    "        if aa != \"-\":\n",
    "            pos += 1\n",
    "            subset += aa\n",
    "\n",
    "            if pos in positions:\n",
    "                subsets.append(subset)\n",
    "                subset = \"\"\n",
    "        else:\n",
    "            subset += \"-\"\n",
    "\n",
    "    # Add the last subset if it's not empty\n",
    "    if subset != \"\":\n",
    "        subsets.append(subset)\n",
    "\n",
    "    return subsets\n"
   ],
   "metadata": {
    "collapsed": false,
    "ExecuteTime": {
     "end_time": "2023-07-15T13:34:08.112322400Z",
     "start_time": "2023-07-15T13:34:08.071528300Z"
    }
   }
  },
  {
   "cell_type": "code",
   "execution_count": 9,
   "outputs": [
    {
     "data": {
      "text/plain": "['---------------------------------------------------------------------------------------------------------------------MDLSALRVEEVQNVINAMQK---ILECPICLELIKEPVSTKCD-HIFCK---------FCMLKLLNQKKGPSQCPLCKNDITKRSLQESTRFSQLVEELLKIICAFQLD---TGLEY',\n 'AN-SYNFAKK-ENNSPEHLK-DEVSIIQSMGYRNRAKRLLQSEPENPSL--------QETSLSVQLSNLGTVRTLRTKQRIQPQKTSVYIELGSDSSEDTVNKATYCSVGDQELLQITPQGTRDEI---------------SLDSAKK--AACEFSETDVTNTEHHQPSNNDLNTTE-KRAAERHPEKYQGSSVSNLHVEPCGTNTHASSLQHENSSLLLTKDRMNVEKAEFCNKSKQPGLARSQHNRWAGSKETCNDRRTPSTEKKVDLNADPLCERKEWNKQKLPCSENPRD-TEDVPWITLNSSIQKVNEWFSRSDELLGSD-DSHDGESESNAKVADVLDV-------------------LNEVDEYSGSSEKIDLLASDPHEALICKSERVHSKSVESNIEDKIFGKTYRKKASLPNLSHV--TENLIIGAFVTEPQI-IQERPLTNKLKRKRRPTSGLHPEDFIKKADLAV-QKTPEMINQGTNQTEQNGQVMNITNSGHENKTKGDSIQNEKNPNPIESLEKESAFKTKAEPISSSISNMELELNIHNSKAPKKNRLRRKSSTRHIHALELVVSRNLSPPNCTELQIDSCSSSEEIKK-KKYNQMPVRHSRNLQLMEGKEPATGAKKSNKPNEQTSKRHDSDTFPELKLTNAPGSFTKCSNTSELKEFVNPSLPREEKEEKLETVKVSNNAEDPKDLMLSGE-RVLQTE---RSVESSSISLVPGTDYGTQESISLLEVSTLGKAKT-EPNKCVSQCAAFENPKGLIHGCSKDNRNDTEGFKYPLGHEVNH-SRETSIEMEESELDAQYLQNTFKVSKRQSFAPFSNPGNAEEECATFSAHSGSLKKQSPKVTFECEQKEENQGKN-ESNIKPVQTVNITAGFPVVGQKDKP-VDNAKCS--IKGGSRFCLSSQFRGNETGLITPNKHGLLQNPYRIPPLFPIKSFVKTKCKKNLLEENFEEHSMSPEREMGNEN-IPSTVSTISRNNIRENVFKEASSSNINEVGSST-------NEVGSSINEIGSSDENIQAELGRNRGPKLNAMLRLGVLQPEVYKQSLPGSNCKHPEIKKQEY-EEVVQTVNTDFSPYLISDNLEQPMGSSHASQVCSETPDDLLDD--GEIKEDTSFAENDIKESSAVFSKSVQKGELSRSPSPFTH-THLAQGYR-RGAKKLESSEENLSSEDEELPCFQHLLFGKVNNIPS-QSTRHSTVATECLSKNTEENLLSLKNSLNDC--SNQVILAKASQEHHLSEETKCSASLFSSQCSELEDLTANT--------NTQDPFLIG--SSKQMRHQSESQGVGLSDKELVSDD----EERGTGLEENN-QEEQSMDSN-LGEAASGCESETSVSEDCSGLSSQSDILTTQ-------QRDTMQHNLIKLQQEMAELEAVLEQHGSQPS-NSYPSIISDSSA--LEDLRNPEQSTSEK---------------------AVLTSQKSSEYPISQNPEGLSADKFEVSADSSTSK-NKEPGVER---------------------SSPSKCPSL-DDRWYMHSCSGSLQNRNYPSQEELIKVVDVEEQQLEES-------------GPHDLTETSYLPRQDLEGTP-YLESGISLFSDDPESDPSEDRAPESARVGNIPSSTSALKVPQLKVAESAQSPAAAHTTDTAGYNAMEES',\n 'VSREKPELTASTER-VNKRMSMVVSGLTPEEFMLVYKFARKHHITLTNLITEETTHVVMKTDAEFVCERTLKYFLGIAGGKWVVSYFWVTQSIKERKMLNEHDFEVRGDVVNGRNHQGPKRARES-----QDRKIFRGLEICCYGPFTNMPT-------------------------------------------------------------------------DQLEWMVQLCGASVVKELSSFTLGTG---VHPIVVVQPDAWTEDNGFHAIGQMCEAPVVTREWVLDSVALYQCQELDT---YLIPQIPHSHY-----------------------------------']"
     },
     "execution_count": 9,
     "metadata": {},
     "output_type": "execute_result"
    }
   ],
   "source": [
    "split_sequence_by_position(brca_human, [101,1631])"
   ],
   "metadata": {
    "collapsed": false,
    "ExecuteTime": {
     "end_time": "2023-07-15T13:14:52.708649500Z",
     "start_time": "2023-07-15T13:14:52.687901900Z"
    }
   }
  },
  {
   "cell_type": "code",
   "execution_count": 21,
   "outputs": [
    {
     "data": {
      "text/plain": "234"
     },
     "execution_count": 21,
     "metadata": {},
     "output_type": "execute_result"
    }
   ],
   "source": [
    "fasta_RING=\"---------------------------------------------------------------------------------------------------------------------MDLSALRVEEVQNVINAMQK---ILECPICLELIKEPVSTKCD-HIFCK---------FCMLKLLNQKKGPSQCPLCKNDITKRSLQESTRFSQLVEELLKIICAFQLD---TGLEY\"\n",
    "\n",
    "len(fasta_RING)"
   ],
   "metadata": {
    "collapsed": false,
    "ExecuteTime": {
     "end_time": "2023-07-15T13:22:52.353817Z",
     "start_time": "2023-07-15T13:22:52.315497300Z"
    }
   }
  },
  {
   "cell_type": "code",
   "execution_count": null,
   "outputs": [],
   "source": [],
   "metadata": {
    "collapsed": false
   }
  },
  {
   "cell_type": "code",
   "execution_count": 22,
   "outputs": [
    {
     "data": {
      "text/plain": "352"
     },
     "execution_count": 22,
     "metadata": {},
     "output_type": "execute_result"
    }
   ],
   "source": [
    "fasta_BRCT=\"VSREKPELTASTER-VNKRMSMVVSGLTPEEFMLVYKFARKHHITLTNLITEETTHVVMKTDAEFVCERTLKYFLGIAGGKWVVSYFWVTQSIKERKMLNEHDFEVRGDVVNGRNHQGPKRARES-----QDRKIFRGLEICCYGPFTNMPT-------------------------------------------------------------------------DQLEWMVQLCGASVVKELSSFTLGTG---VHPIVVVQPDAWTEDNGFHAIGQMCEAPVVTREWVLDSVALYQCQELDT---YLIPQIPHSHY-----------------------------------\"\n",
    "\n",
    "len(fasta_BRCT)"
   ],
   "metadata": {
    "collapsed": false,
    "ExecuteTime": {
     "end_time": "2023-07-15T13:22:54.401584100Z",
     "start_time": "2023-07-15T13:22:54.381880200Z"
    }
   }
  },
  {
   "cell_type": "code",
   "execution_count": 18,
   "outputs": [
    {
     "data": {
      "text/plain": "1929"
     },
     "execution_count": 18,
     "metadata": {},
     "output_type": "execute_result"
    }
   ],
   "source": [
    "len(brca_human)-len(fasta_BRCT)"
   ],
   "metadata": {
    "collapsed": false,
    "ExecuteTime": {
     "end_time": "2023-07-15T13:20:33.410149800Z",
     "start_time": "2023-07-15T13:20:33.381068500Z"
    }
   }
  },
  {
   "cell_type": "code",
   "execution_count": null,
   "outputs": [],
   "source": [
    "#split up into domains again\n",
    "\n",
    "def compare_sequences(consensus_sequence, other_sequence, split_positions=None, columns=1, figsize=(16, 8)):\n",
    "    # Check if the sequences have the same length\n",
    "    if len(consensus_sequence) != len(other_sequence):\n",
    "        print(\"Sequences have different lengths.\")\n",
    "        return\n",
    "\n",
    "    # Determine the splitting positions\n",
    "    if split_positions is None:\n",
    "        split_positions = [0, len(consensus_sequence)]\n",
    "\n",
    "    # Adjust the number of columns if needed\n",
    "    num_plots = len(split_positions) - 1\n",
    "    rows = num_plots // columns + (num_plots % columns > 0)\n",
    "\n",
    "    # Create subplots\n",
    "    fig, axs = plt.subplots(rows, columns, figsize=figsize, squeeze=False)\n",
    "    axs = axs.ravel()\n",
    "\n",
    "    # Iterate over the subsets\n",
    "    for i, ax in enumerate(axs):\n",
    "        start = split_positions[i]\n",
    "        end = split_positions[i + 1]\n",
    "\n",
    "        # Create a plot to visualize the sequences within the subset\n",
    "        for j in range(start, end):\n",
    "            consensus_aa = consensus_sequence[j]\n",
    "            other_aa = other_sequence[j]\n",
    "            if consensus_aa == other_aa:\n",
    "                ax.text(j - start, 0.5, consensus_aa, color='green', fontsize=60, ha='center')\n",
    "            else:\n",
    "                ax.text(j - start, 0.7, consensus_aa, color='green', fontsize=60, ha='center')\n",
    "                ax.text(j - start, 0.3, other_aa, color='red', fontsize=60, ha='center')\n",
    "\n",
    "        # Set plot properties for each subset\n",
    "        ax.set_xlim(-0.5, end - start - 0.5)\n",
    "        ax.set_ylim(0, 1)\n",
    "        ax.set_xticks(range(end - start))\n",
    "        ax.set_yticks([])\n",
    "        ax.set_xlabel('Position')\n",
    "        ax.set_title(f'Subset {i+1}')\n",
    "\n",
    "    plt.tight_layout()\n",
    "    plt.show()\n",
    "\n",
    "# Example usage:\n",
    "\n",
    "split_positions = [0,352,1929, max(len(seq) for seq in fasta_file.values())]  # Manually specify splitting positions\n",
    "compare_sequences(consensus1, brca_human, split_positions=split_positions, columns=2, figsize=(300, 20))\n"
   ],
   "metadata": {
    "collapsed": false
   }
  },
  {
   "cell_type": "code",
   "execution_count": null,
   "outputs": [],
   "source": [
    "#create sequence logo with sequence split into domains\n",
    "\n",
    "def create_sequence_logo(sequence_data, split_positions=None, columns=1, figsize=(16, 8), scaling_factor=0.04):\n",
    "\n",
    "    amino_acids_to_plot = ['-',\"A\",\"R\",\"N\",\"D\",\"C\",\"Q\",\"E\",\"G\",\"H\",\"I\",\"L\",\"K\",\"M\",\"F\",\"P\",\"S\",\"T\",\"W\",\"Y\",\"V\",'X']\n",
    "    # Filter out empty sequences\n",
    "    sequence_data = {k: v for k, v in sequence_data.items() if v}\n",
    "\n",
    "    # Calculate the maximum length of the sequences\n",
    "    max_length = max(len(seq) for seq in sequence_data.values())\n",
    "\n",
    "    # Create a dictionary to store the frequency of each amino acid at each position\n",
    "    amino_acid_frequencies = {aa: [0] * max_length for aa in amino_acids_to_plot}\n",
    "\n",
    "    # Iterate over the sequences and update the amino acid frequencies\n",
    "    for sequence in sequence_data.values():\n",
    "        for i, aa in enumerate(sequence):\n",
    "            amino_acid_frequencies[aa][i] += 1\n",
    "\n",
    "    # Determine the splitting positions\n",
    "    if split_positions is None:\n",
    "        split_positions = [0, max_length]\n",
    "\n",
    "    # Adjust the number of columns if needed\n",
    "    num_plots = len(split_positions) - 1\n",
    "    rows = num_plots // columns + (num_plots % columns > 0)\n",
    "\n",
    "    # Create subplots with increased vertical gap\n",
    "    fig, axs = plt.subplots(rows, columns, figsize=figsize, squeeze=False, gridspec_kw={'hspace': 0.5})\n",
    "    axs = axs.ravel()\n",
    "\n",
    "    # Plotting the amino acid frequencies by position for each subset\n",
    "    term = False\n",
    "    for i, ax in enumerate(axs):\n",
    "        start = split_positions[i]\n",
    "\n",
    "        if i == num_plots-1:  # Handle the last subset separately\n",
    "            print('end')\n",
    "            end = max_length\n",
    "            term = True\n",
    "\n",
    "        else:\n",
    "            end = split_positions[i + 1]\n",
    "        subset_data = {k: v[start:end] for k, v in sequence_data.items()}\n",
    "\n",
    "        # Plotting the amino acid frequencies by position for each amino acid\n",
    "        for aa in amino_acids_to_plot:\n",
    "            frequencies = amino_acid_frequencies[aa][start:end]\n",
    "\n",
    "            if any(frequencies):\n",
    "                ax.plot(range(1, len(frequencies) + 1), [f * scaling_factor for f in frequencies], label=aa)\n",
    "\n",
    "        ax.set_xlim(1, end - start + 1)\n",
    "        ax.set_xticks(range(1, end - start + 1))\n",
    "        ax.set_xticklabels(range(start + 1, end + 1))\n",
    "        ax.set_xlabel('Position')\n",
    "        ax.set_ylabel('Frequency')\n",
    "\n",
    "        ax.set_title(f\"Sequence Logo - Position {start+1}-{end}\")\n",
    "        if term:\n",
    "            break\n",
    "    # Create a single legend outside the loop\n",
    "    handles, labels = ax.get_legend_handles_labels()\n",
    "    fig.legend(handles, labels, loc='center', ncol=1)\n",
    "#     fig.legend(handles, labels,  loc=(1.04, 0))\n",
    "\n",
    "#     plt.tight_layout()\n",
    "    plt.show()\n",
    "\n",
    "split_positions = [0,352,1929, max(len(seq) for seq in fasta_file.values())]  # Manually specify splitting positions\n",
    "\n",
    "create_sequence_logo(fasta_file, split_positions=split_positions, columns=2, figsize=(80, 8), scaling_factor=0.011)"
   ],
   "metadata": {
    "collapsed": false
   }
  }
 ],
 "metadata": {
  "kernelspec": {
   "display_name": "Python 3 (ipykernel)",
   "language": "python",
   "name": "python3"
  },
  "language_info": {
   "codemirror_mode": {
    "name": "ipython",
    "version": 3
   },
   "file_extension": ".py",
   "mimetype": "text/x-python",
   "name": "python",
   "nbconvert_exporter": "python",
   "pygments_lexer": "ipython3",
   "version": "3.10.9"
  }
 },
 "nbformat": 4,
 "nbformat_minor": 5
}
