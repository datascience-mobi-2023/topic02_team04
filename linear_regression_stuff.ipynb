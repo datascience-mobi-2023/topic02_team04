{
 "cells": [
  {
   "cell_type": "code",
   "execution_count": 1,
   "metadata": {},
   "outputs": [],
   "source": [
    "import pandas as pd\n",
    "import seaborn as sns\n",
    "import numpy as np\n",
    "import matplotlib.pyplot as plt"
   ]
  },
  {
   "cell_type": "code",
   "execution_count": 2,
   "metadata": {},
   "outputs": [
    {
     "name": "stdout",
     "output_type": "stream",
     "text": [
      "      mutant                                   mutated_sequence  DMS_score  \\\n",
      "0        M1I  IDLSALRVEEVQNVINAMQKILECPICLELIKEPVSTKCDHIFCKF...  -2.502128   \n",
      "1        M1V  VDLSALRVEEVQNVINAMQKILECPICLELIKEPVSTKCDHIFCKF...  -2.025645   \n",
      "2        M1T  TDLSALRVEEVQNVINAMQKILECPICLELIKEPVSTKCDHIFCKF...  -1.656569   \n",
      "3        M1R  RDLSALRVEEVQNVINAMQKILECPICLELIKEPVSTKCDHIFCKF...  -2.481580   \n",
      "4        M1L  LDLSALRVEEVQNVINAMQKILECPICLELIKEPVSTKCDHIFCKF...  -2.516529   \n",
      "...      ...                                                ...        ...   \n",
      "1832  I1855R  MDLSALRVEEVQNVINAMQKILECPICLELIKEPVSTKCDHIFCKF...  -0.464328   \n",
      "1833  I1855M  MDLSALRVEEVQNVINAMQKILECPICLELIKEPVSTKCDHIFCKF...   0.021941   \n",
      "1834  I1855L  MDLSALRVEEVQNVINAMQKILECPICLELIKEPVSTKCDHIFCKF...   0.233297   \n",
      "1835  I1855K  MDLSALRVEEVQNVINAMQKILECPICLELIKEPVSTKCDHIFCKF...  -0.863844   \n",
      "1836  I1855T  MDLSALRVEEVQNVINAMQKILECPICLELIKEPVSTKCDHIFCKF...  -0.291519   \n",
      "\n",
      "      DMS_score_bin  \n",
      "0                 0  \n",
      "1                 0  \n",
      "2                 0  \n",
      "3                 0  \n",
      "4                 0  \n",
      "...             ...  \n",
      "1832              1  \n",
      "1833              1  \n",
      "1834              1  \n",
      "1835              1  \n",
      "1836              1  \n",
      "\n",
      "[1837 rows x 4 columns]\n"
     ]
    }
   ],
   "source": [
    "# data\n",
    "df = pd.read_csv(\"BRCA1_HUMAN_Findlay_2018.csv\")\n",
    "print(df)"
   ]
  },
  {
   "cell_type": "code",
   "execution_count": 3,
   "metadata": {},
   "outputs": [
    {
     "name": "stdout",
     "output_type": "stream",
     "text": [
      "      mutant                                   mutated_sequence  DMS_score  \\\n",
      "0        M1I  IDLSALRVEEVQNVINAMQKILECPICLELIKEPVSTKCDHIFCKF...  -2.502128   \n",
      "1        M1V  VDLSALRVEEVQNVINAMQKILECPICLELIKEPVSTKCDHIFCKF...  -2.025645   \n",
      "2        M1T  TDLSALRVEEVQNVINAMQKILECPICLELIKEPVSTKCDHIFCKF...  -1.656569   \n",
      "3        M1R  RDLSALRVEEVQNVINAMQKILECPICLELIKEPVSTKCDHIFCKF...  -2.481580   \n",
      "4        M1L  LDLSALRVEEVQNVINAMQKILECPICLELIKEPVSTKCDHIFCKF...  -2.516529   \n",
      "...      ...                                                ...        ...   \n",
      "1832  I1855R  MDLSALRVEEVQNVINAMQKILECPICLELIKEPVSTKCDHIFCKF...  -0.464328   \n",
      "1833  I1855M  MDLSALRVEEVQNVINAMQKILECPICLELIKEPVSTKCDHIFCKF...   0.021941   \n",
      "1834  I1855L  MDLSALRVEEVQNVINAMQKILECPICLELIKEPVSTKCDHIFCKF...   0.233297   \n",
      "1835  I1855K  MDLSALRVEEVQNVINAMQKILECPICLELIKEPVSTKCDHIFCKF...  -0.863844   \n",
      "1836  I1855T  MDLSALRVEEVQNVINAMQKILECPICLELIKEPVSTKCDHIFCKF...  -0.291519   \n",
      "\n",
      "      DMS_score_bin position  \n",
      "0                 0        1  \n",
      "1                 0        1  \n",
      "2                 0        1  \n",
      "3                 0        1  \n",
      "4                 0        1  \n",
      "...             ...      ...  \n",
      "1832              1     1855  \n",
      "1833              1     1855  \n",
      "1834              1     1855  \n",
      "1835              1     1855  \n",
      "1836              1     1855  \n",
      "\n",
      "[1837 rows x 5 columns]\n"
     ]
    }
   ],
   "source": [
    "# weitere Zeile mit 'position'\n",
    "import re \n",
    "\n",
    "def get_number_from_text(text):\n",
    "    return re.findall(r'\\d{1,4}',text)[0]\n",
    "\n",
    "df['position']=df['mutant'].apply(get_number_from_text)\n",
    "print(df)"
   ]
  },
  {
   "cell_type": "code",
   "execution_count": 4,
   "metadata": {},
   "outputs": [
    {
     "name": "stdout",
     "output_type": "stream",
     "text": [
      "      mutant                                   mutated_sequence  DMS_score  \\\n",
      "0        M1I  IDLSALRVEEVQNVINAMQKILECPICLELIKEPVSTKCDHIFCKF...  -2.502128   \n",
      "1        M1V  VDLSALRVEEVQNVINAMQKILECPICLELIKEPVSTKCDHIFCKF...  -2.025645   \n",
      "2        M1T  TDLSALRVEEVQNVINAMQKILECPICLELIKEPVSTKCDHIFCKF...  -1.656569   \n",
      "3        M1R  RDLSALRVEEVQNVINAMQKILECPICLELIKEPVSTKCDHIFCKF...  -2.481580   \n",
      "4        M1L  LDLSALRVEEVQNVINAMQKILECPICLELIKEPVSTKCDHIFCKF...  -2.516529   \n",
      "...      ...                                                ...        ...   \n",
      "1832  I1855R  MDLSALRVEEVQNVINAMQKILECPICLELIKEPVSTKCDHIFCKF...  -0.464328   \n",
      "1833  I1855M  MDLSALRVEEVQNVINAMQKILECPICLELIKEPVSTKCDHIFCKF...   0.021941   \n",
      "1834  I1855L  MDLSALRVEEVQNVINAMQKILECPICLELIKEPVSTKCDHIFCKF...   0.233297   \n",
      "1835  I1855K  MDLSALRVEEVQNVINAMQKILECPICLELIKEPVSTKCDHIFCKF...  -0.863844   \n",
      "1836  I1855T  MDLSALRVEEVQNVINAMQKILECPICLELIKEPVSTKCDHIFCKF...  -0.291519   \n",
      "\n",
      "      DMS_score_bin position new_aa  \n",
      "0                 0        1      I  \n",
      "1                 0        1      V  \n",
      "2                 0        1      T  \n",
      "3                 0        1      R  \n",
      "4                 0        1      L  \n",
      "...             ...      ...    ...  \n",
      "1832              1     1855      R  \n",
      "1833              1     1855      M  \n",
      "1834              1     1855      L  \n",
      "1835              1     1855      K  \n",
      "1836              1     1855      T  \n",
      "\n",
      "[1837 rows x 6 columns]\n"
     ]
    }
   ],
   "source": [
    "#Zeile mit neuer Aminosäure\n",
    "test1=df.mutant.str.extract(r'(\\d)([ARNDCQEGHILKTMfPOUSTWYV])')\n",
    "df[\"new_aa\"]=test1[1]\n",
    "print(df)"
   ]
  },
  {
   "cell_type": "code",
   "execution_count": 6,
   "metadata": {},
   "outputs": [],
   "source": [
    "df_filtered = df[df['DMS_score_bin'] == 0]"
   ]
  },
  {
   "cell_type": "code",
   "execution_count": 7,
   "metadata": {},
   "outputs": [
    {
     "name": "stdout",
     "output_type": "stream",
     "text": [
      "[-1.98565131 -1.98565131 -1.98565131 ... -1.91717133 -1.91717133\n",
      " -1.91717133]\n"
     ]
    }
   ],
   "source": [
    "import pandas as pd\n",
    "from sklearn.linear_model import LinearRegression\n",
    "\n",
    "# Extract the independent variable (feature)\n",
    "X = df_filtered[['position']]  # Assuming 'DMS_score' is the independent variable\n",
    "\n",
    "# Extract the dependent variable (target)\n",
    "y = df_filtered['DMS_score']  # Assuming 'mutant' is the dependent variable\n",
    "\n",
    "# Create a linear regression object\n",
    "model = LinearRegression()\n",
    "\n",
    "# Fit the model to the data\n",
    "model.fit(X, y)\n",
    "\n",
    "# Predict the target variable for new data points\n",
    "# Assuming you have a new dataframe named 'new_df'\n",
    "X_new = df[['position']]  # Extract the relevant column\n",
    "y_pred = model.predict(X_new)\n",
    "\n",
    "# Print the predicted values\n",
    "print(y_pred)\n"
   ]
  },
  {
   "cell_type": "code",
   "execution_count": 8,
   "metadata": {},
   "outputs": [
    {
     "name": "stdout",
     "output_type": "stream",
     "text": [
      "Intercept: -1.9731456982397582\n",
      "Coefficient: [3.06161459e-05]\n",
      "R-squared score: 0.0036057233880457673\n"
     ]
    }
   ],
   "source": [
    "import pandas as pd\n",
    "from sklearn.linear_model import LinearRegression\n",
    "from sklearn.model_selection import train_test_split\n",
    "\n",
    "\n",
    "# Split the data into input (positions) and output (DMS_score)\n",
    "X = df_filtered['position'].values.reshape(-1, 1)\n",
    "y = df_filtered['DMS_score'].values\n",
    "\n",
    "# Split the data into training and testing sets\n",
    "X_train, X_test, y_train, y_test = train_test_split(X, y, test_size=0.2, random_state=42)\n",
    "\n",
    "# Create a Linear Regression model\n",
    "model = LinearRegression()\n",
    "\n",
    "# Fit the model to the training data\n",
    "model.fit(X_train, y_train)\n",
    "# Predict the DMS_scores for the test data\n",
    "y_pred = model.predict(X_test)\n",
    "\n",
    "# Evaluate the model\n",
    "score = model.score(X_test, y_test)\n",
    "\n",
    "# Print the model coefficients and score\n",
    "print(\"Intercept:\", model.intercept_)\n",
    "print(\"Coefficient:\", model.coef_)\n",
    "print(\"R-squared score:\", score)"
   ]
  },
  {
   "cell_type": "code",
   "execution_count": 9,
   "metadata": {},
   "outputs": [
    {
     "name": "stderr",
     "output_type": "stream",
     "text": [
      "No artists with labels found to put in legend.  Note that artists whose label start with an underscore are ignored when legend() is called with no argument.\n"
     ]
    },
    {
     "data": {
      "image/png": "[encoded data removed]",
      "text/plain": [
       "<Figure size 640x480 with 1 Axes>"
      ]
     },
     "metadata": {},
     "output_type": "display_data"
    },
    {
     "data": {
      "image/png": "[encoded data removed]",
      "text/plain": [
       "<Figure size 2000x200 with 1 Axes>"
      ]
     },
     "metadata": {},
     "output_type": "display_data"
    }
   ],
   "source": [
    "import matplotlib.pyplot as plt\n",
    "\n",
    "# Extract the column for plotting\n",
    "X_test_column = X_test[:, 0]\n",
    "\n",
    "# Plot the actual data points\n",
    "plt.scatter(X_test_column, y_test, color='blue', label='Actual', s=5)\n",
    "\n",
    "# Plot the predicted values\n",
    "plt.plot(X_test_column, y_pred, color='red', linewidth=0.6, label='Predicted')\n",
    "plt.figure(figsize=(20,2))\n",
    "\n",
    "# Set labels and title\n",
    "plt.xlabel('Position')\n",
    "plt.ylabel('DMS_score')\n",
    "plt.title('Linear Regression')\n",
    "\n",
    "# Show the legend\n",
    "plt.legend()\n",
    "\n",
    "# Display the plot\n",
    "plt.show()"
   ]
  },
  {
   "cell_type": "code",
   "execution_count": 10,
   "metadata": {},
   "outputs": [
    {
     "name": "stdout",
     "output_type": "stream",
     "text": [
      "coefficient of determination: 0.0025851035421701196\n",
      "intercept: -1.9856882459589416\n"
     ]
    }
   ],
   "source": [
    "\n",
    "\n",
    "\n",
    "import pandas as pd\n",
    "from sklearn.linear_model import LinearRegression\n",
    "from sklearn.model_selection import train_test_split\n",
    "\n",
    "\n",
    "# Split the data into input (positions) and output (DMS_score)\n",
    "X = df_filtered['position'].values.reshape(-1, 1)\n",
    "y = df_filtered['DMS_score'].values\n",
    "\n",
    "\n",
    "# Create a Linear Regression model\n",
    "model = LinearRegression()\n",
    "\n",
    "# Fit the model to the training data\n",
    "model.fit(X, y)\n",
    "\n",
    "model = LinearRegression().fit(X, y)\n",
    "\n",
    "r_sq = model.score(X, y)\n",
    "print(f\"coefficient of determination: {r_sq}\")\n",
    "print(f\"intercept: {model.intercept_}\")"
   ]
  },
  {
   "cell_type": "code",
   "execution_count": null,
   "metadata": {},
   "outputs": [],
   "source": []
  }
 ],
 "metadata": {
  "kernelspec": {
   "display_name": "base",
   "language": "python",
   "name": "python3"
  },
  "language_info": {
   "codemirror_mode": {
    "name": "ipython",
    "version": 3
   },
   "file_extension": ".py",
   "mimetype": "text/x-python",
   "name": "python",
   "nbconvert_exporter": "python",
   "pygments_lexer": "ipython3",
   "version": "3.10.9"
  },
  "orig_nbformat": 4
 },
 "nbformat": 4,
 "nbformat_minor": 2
}
