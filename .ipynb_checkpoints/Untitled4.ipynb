{
 "cells": [
  {
   "cell_type": "code",
   "execution_count": 1,
   "id": "584c900f",
   "metadata": {},
   "outputs": [],
   "source": [
    "import pandas as pd\n",
    "import numpy as np\n",
    "import matplotlib.pyplot as plt"
   ]
  },
  {
   "cell_type": "code",
   "execution_count": 2,
   "id": "bb48385a",
   "metadata": {},
   "outputs": [
    {
     "data": {
      "text/html": [
       "<div>\n",
       "<style scoped>\n",
       "    .dataframe tbody tr th:only-of-type {\n",
       "        vertical-align: middle;\n",
       "    }\n",
       "\n",
       "    .dataframe tbody tr th {\n",
       "        vertical-align: top;\n",
       "    }\n",
       "\n",
       "    .dataframe thead th {\n",
       "        text-align: right;\n",
       "    }\n",
       "</style>\n",
       "<table border=\"1\" class=\"dataframe\">\n",
       "  <thead>\n",
       "    <tr style=\"text-align: right;\">\n",
       "      <th></th>\n",
       "      <th>mutant</th>\n",
       "      <th>mutated_sequence</th>\n",
       "      <th>DMS_score</th>\n",
       "      <th>DMS_score_bin</th>\n",
       "    </tr>\n",
       "  </thead>\n",
       "  <tbody>\n",
       "    <tr>\n",
       "      <th>0</th>\n",
       "      <td>M1I</td>\n",
       "      <td>IDLSALRVEEVQNVINAMQKILECPICLELIKEPVSTKCDHIFCKF...</td>\n",
       "      <td>-2.502128</td>\n",
       "      <td>0</td>\n",
       "    </tr>\n",
       "    <tr>\n",
       "      <th>1</th>\n",
       "      <td>M1V</td>\n",
       "      <td>VDLSALRVEEVQNVINAMQKILECPICLELIKEPVSTKCDHIFCKF...</td>\n",
       "      <td>-2.025645</td>\n",
       "      <td>0</td>\n",
       "    </tr>\n",
       "    <tr>\n",
       "      <th>2</th>\n",
       "      <td>M1T</td>\n",
       "      <td>TDLSALRVEEVQNVINAMQKILECPICLELIKEPVSTKCDHIFCKF...</td>\n",
       "      <td>-1.656569</td>\n",
       "      <td>0</td>\n",
       "    </tr>\n",
       "    <tr>\n",
       "      <th>3</th>\n",
       "      <td>M1R</td>\n",
       "      <td>RDLSALRVEEVQNVINAMQKILECPICLELIKEPVSTKCDHIFCKF...</td>\n",
       "      <td>-2.481580</td>\n",
       "      <td>0</td>\n",
       "    </tr>\n",
       "    <tr>\n",
       "      <th>4</th>\n",
       "      <td>M1L</td>\n",
       "      <td>LDLSALRVEEVQNVINAMQKILECPICLELIKEPVSTKCDHIFCKF...</td>\n",
       "      <td>-2.516529</td>\n",
       "      <td>0</td>\n",
       "    </tr>\n",
       "  </tbody>\n",
       "</table>\n",
       "</div>"
      ],
      "text/plain": [
       "  mutant                                   mutated_sequence  DMS_score  \\\n",
       "0    M1I  IDLSALRVEEVQNVINAMQKILECPICLELIKEPVSTKCDHIFCKF...  -2.502128   \n",
       "1    M1V  VDLSALRVEEVQNVINAMQKILECPICLELIKEPVSTKCDHIFCKF...  -2.025645   \n",
       "2    M1T  TDLSALRVEEVQNVINAMQKILECPICLELIKEPVSTKCDHIFCKF...  -1.656569   \n",
       "3    M1R  RDLSALRVEEVQNVINAMQKILECPICLELIKEPVSTKCDHIFCKF...  -2.481580   \n",
       "4    M1L  LDLSALRVEEVQNVINAMQKILECPICLELIKEPVSTKCDHIFCKF...  -2.516529   \n",
       "\n",
       "   DMS_score_bin  \n",
       "0              0  \n",
       "1              0  \n",
       "2              0  \n",
       "3              0  \n",
       "4              0  "
      ]
     },
     "execution_count": 2,
     "metadata": {},
     "output_type": "execute_result"
    }
   ],
   "source": [
    "data_raw=pd.read_csv('./data/BRCA1_HUMAN_Findlay_2018.csv')\n",
    "data_raw.head(5)"
   ]
  },
  {
   "cell_type": "code",
   "execution_count": 3,
   "id": "a1ddef64",
   "metadata": {},
   "outputs": [
    {
     "data": {
      "text/plain": [
       "(1837, 4)"
      ]
     },
     "execution_count": 3,
     "metadata": {},
     "output_type": "execute_result"
    }
   ],
   "source": [
    "data_raw.shape"
   ]
  },
  {
   "cell_type": "code",
   "execution_count": 4,
   "id": "ed4ebca2",
   "metadata": {},
   "outputs": [
    {
     "data": {
      "text/html": [
       "<div>\n",
       "<style scoped>\n",
       "    .dataframe tbody tr th:only-of-type {\n",
       "        vertical-align: middle;\n",
       "    }\n",
       "\n",
       "    .dataframe tbody tr th {\n",
       "        vertical-align: top;\n",
       "    }\n",
       "\n",
       "    .dataframe thead th {\n",
       "        text-align: right;\n",
       "    }\n",
       "</style>\n",
       "<table border=\"1\" class=\"dataframe\">\n",
       "  <thead>\n",
       "    <tr style=\"text-align: right;\">\n",
       "      <th></th>\n",
       "      <th>mutant</th>\n",
       "      <th>mutated_sequence</th>\n",
       "      <th>DMS_score</th>\n",
       "      <th>DMS_score_bin</th>\n",
       "    </tr>\n",
       "  </thead>\n",
       "  <tbody>\n",
       "    <tr>\n",
       "      <th>0</th>\n",
       "      <td>M1I</td>\n",
       "      <td>IDLSALRVEEVQNVINAMQKILECPICLELIKEPVSTKCDHIFCKF...</td>\n",
       "      <td>-2.502128</td>\n",
       "      <td>0</td>\n",
       "    </tr>\n",
       "    <tr>\n",
       "      <th>1</th>\n",
       "      <td>M1V</td>\n",
       "      <td>VDLSALRVEEVQNVINAMQKILECPICLELIKEPVSTKCDHIFCKF...</td>\n",
       "      <td>-2.025645</td>\n",
       "      <td>0</td>\n",
       "    </tr>\n",
       "    <tr>\n",
       "      <th>2</th>\n",
       "      <td>M1T</td>\n",
       "      <td>TDLSALRVEEVQNVINAMQKILECPICLELIKEPVSTKCDHIFCKF...</td>\n",
       "      <td>-1.656569</td>\n",
       "      <td>0</td>\n",
       "    </tr>\n",
       "    <tr>\n",
       "      <th>3</th>\n",
       "      <td>M1R</td>\n",
       "      <td>RDLSALRVEEVQNVINAMQKILECPICLELIKEPVSTKCDHIFCKF...</td>\n",
       "      <td>-2.481580</td>\n",
       "      <td>0</td>\n",
       "    </tr>\n",
       "    <tr>\n",
       "      <th>4</th>\n",
       "      <td>M1L</td>\n",
       "      <td>LDLSALRVEEVQNVINAMQKILECPICLELIKEPVSTKCDHIFCKF...</td>\n",
       "      <td>-2.516529</td>\n",
       "      <td>0</td>\n",
       "    </tr>\n",
       "    <tr>\n",
       "      <th>...</th>\n",
       "      <td>...</td>\n",
       "      <td>...</td>\n",
       "      <td>...</td>\n",
       "      <td>...</td>\n",
       "    </tr>\n",
       "    <tr>\n",
       "      <th>1832</th>\n",
       "      <td>I1855R</td>\n",
       "      <td>MDLSALRVEEVQNVINAMQKILECPICLELIKEPVSTKCDHIFCKF...</td>\n",
       "      <td>-0.464328</td>\n",
       "      <td>1</td>\n",
       "    </tr>\n",
       "    <tr>\n",
       "      <th>1833</th>\n",
       "      <td>I1855M</td>\n",
       "      <td>MDLSALRVEEVQNVINAMQKILECPICLELIKEPVSTKCDHIFCKF...</td>\n",
       "      <td>0.021941</td>\n",
       "      <td>1</td>\n",
       "    </tr>\n",
       "    <tr>\n",
       "      <th>1834</th>\n",
       "      <td>I1855L</td>\n",
       "      <td>MDLSALRVEEVQNVINAMQKILECPICLELIKEPVSTKCDHIFCKF...</td>\n",
       "      <td>0.233297</td>\n",
       "      <td>1</td>\n",
       "    </tr>\n",
       "    <tr>\n",
       "      <th>1835</th>\n",
       "      <td>I1855K</td>\n",
       "      <td>MDLSALRVEEVQNVINAMQKILECPICLELIKEPVSTKCDHIFCKF...</td>\n",
       "      <td>-0.863844</td>\n",
       "      <td>1</td>\n",
       "    </tr>\n",
       "    <tr>\n",
       "      <th>1836</th>\n",
       "      <td>I1855T</td>\n",
       "      <td>MDLSALRVEEVQNVINAMQKILECPICLELIKEPVSTKCDHIFCKF...</td>\n",
       "      <td>-0.291519</td>\n",
       "      <td>1</td>\n",
       "    </tr>\n",
       "  </tbody>\n",
       "</table>\n",
       "<p>1837 rows × 4 columns</p>\n",
       "</div>"
      ],
      "text/plain": [
       "      mutant                                   mutated_sequence  DMS_score  \\\n",
       "0        M1I  IDLSALRVEEVQNVINAMQKILECPICLELIKEPVSTKCDHIFCKF...  -2.502128   \n",
       "1        M1V  VDLSALRVEEVQNVINAMQKILECPICLELIKEPVSTKCDHIFCKF...  -2.025645   \n",
       "2        M1T  TDLSALRVEEVQNVINAMQKILECPICLELIKEPVSTKCDHIFCKF...  -1.656569   \n",
       "3        M1R  RDLSALRVEEVQNVINAMQKILECPICLELIKEPVSTKCDHIFCKF...  -2.481580   \n",
       "4        M1L  LDLSALRVEEVQNVINAMQKILECPICLELIKEPVSTKCDHIFCKF...  -2.516529   \n",
       "...      ...                                                ...        ...   \n",
       "1832  I1855R  MDLSALRVEEVQNVINAMQKILECPICLELIKEPVSTKCDHIFCKF...  -0.464328   \n",
       "1833  I1855M  MDLSALRVEEVQNVINAMQKILECPICLELIKEPVSTKCDHIFCKF...   0.021941   \n",
       "1834  I1855L  MDLSALRVEEVQNVINAMQKILECPICLELIKEPVSTKCDHIFCKF...   0.233297   \n",
       "1835  I1855K  MDLSALRVEEVQNVINAMQKILECPICLELIKEPVSTKCDHIFCKF...  -0.863844   \n",
       "1836  I1855T  MDLSALRVEEVQNVINAMQKILECPICLELIKEPVSTKCDHIFCKF...  -0.291519   \n",
       "\n",
       "      DMS_score_bin  \n",
       "0                 0  \n",
       "1                 0  \n",
       "2                 0  \n",
       "3                 0  \n",
       "4                 0  \n",
       "...             ...  \n",
       "1832              1  \n",
       "1833              1  \n",
       "1834              1  \n",
       "1835              1  \n",
       "1836              1  \n",
       "\n",
       "[1837 rows x 4 columns]"
      ]
     },
     "execution_count": 4,
     "metadata": {},
     "output_type": "execute_result"
    }
   ],
   "source": [
    "data_raw"
   ]
  },
  {
   "cell_type": "code",
   "execution_count": 5,
   "id": "61b49fc4",
   "metadata": {},
   "outputs": [],
   "source": [
    "df=data_raw.copy()"
   ]
  },
  {
   "cell_type": "code",
   "execution_count": 7,
   "id": "0fc83d73",
   "metadata": {},
   "outputs": [],
   "source": [
    "import re \n",
    "\n",
    "def get_number_from_text(text):\n",
    "    return re.findall(r'\\d{1,4}',text)[0]"
   ]
  },
  {
   "cell_type": "code",
   "execution_count": 9,
   "id": "e2516b54",
   "metadata": {},
   "outputs": [
    {
     "data": {
      "text/plain": [
       "'10'"
      ]
     },
     "execution_count": 9,
     "metadata": {},
     "output_type": "execute_result"
    }
   ],
   "source": [
    "get_number_from_text('A10B')"
   ]
  },
  {
   "cell_type": "code",
   "execution_count": 10,
   "id": "3b213ebc",
   "metadata": {
    "scrolled": true
   },
   "outputs": [
    {
     "data": {
      "text/html": [
       "<div>\n",
       "<style scoped>\n",
       "    .dataframe tbody tr th:only-of-type {\n",
       "        vertical-align: middle;\n",
       "    }\n",
       "\n",
       "    .dataframe tbody tr th {\n",
       "        vertical-align: top;\n",
       "    }\n",
       "\n",
       "    .dataframe thead th {\n",
       "        text-align: right;\n",
       "    }\n",
       "</style>\n",
       "<table border=\"1\" class=\"dataframe\">\n",
       "  <thead>\n",
       "    <tr style=\"text-align: right;\">\n",
       "      <th></th>\n",
       "      <th>mutant</th>\n",
       "      <th>mutated_sequence</th>\n",
       "      <th>DMS_score</th>\n",
       "      <th>DMS_score_bin</th>\n",
       "      <th>position</th>\n",
       "    </tr>\n",
       "  </thead>\n",
       "  <tbody>\n",
       "    <tr>\n",
       "      <th>0</th>\n",
       "      <td>M1I</td>\n",
       "      <td>IDLSALRVEEVQNVINAMQKILECPICLELIKEPVSTKCDHIFCKF...</td>\n",
       "      <td>-2.502128</td>\n",
       "      <td>0</td>\n",
       "      <td>1</td>\n",
       "    </tr>\n",
       "    <tr>\n",
       "      <th>1</th>\n",
       "      <td>M1V</td>\n",
       "      <td>VDLSALRVEEVQNVINAMQKILECPICLELIKEPVSTKCDHIFCKF...</td>\n",
       "      <td>-2.025645</td>\n",
       "      <td>0</td>\n",
       "      <td>1</td>\n",
       "    </tr>\n",
       "    <tr>\n",
       "      <th>2</th>\n",
       "      <td>M1T</td>\n",
       "      <td>TDLSALRVEEVQNVINAMQKILECPICLELIKEPVSTKCDHIFCKF...</td>\n",
       "      <td>-1.656569</td>\n",
       "      <td>0</td>\n",
       "      <td>1</td>\n",
       "    </tr>\n",
       "    <tr>\n",
       "      <th>3</th>\n",
       "      <td>M1R</td>\n",
       "      <td>RDLSALRVEEVQNVINAMQKILECPICLELIKEPVSTKCDHIFCKF...</td>\n",
       "      <td>-2.481580</td>\n",
       "      <td>0</td>\n",
       "      <td>1</td>\n",
       "    </tr>\n",
       "    <tr>\n",
       "      <th>4</th>\n",
       "      <td>M1L</td>\n",
       "      <td>LDLSALRVEEVQNVINAMQKILECPICLELIKEPVSTKCDHIFCKF...</td>\n",
       "      <td>-2.516529</td>\n",
       "      <td>0</td>\n",
       "      <td>1</td>\n",
       "    </tr>\n",
       "    <tr>\n",
       "      <th>...</th>\n",
       "      <td>...</td>\n",
       "      <td>...</td>\n",
       "      <td>...</td>\n",
       "      <td>...</td>\n",
       "      <td>...</td>\n",
       "    </tr>\n",
       "    <tr>\n",
       "      <th>1832</th>\n",
       "      <td>I1855R</td>\n",
       "      <td>MDLSALRVEEVQNVINAMQKILECPICLELIKEPVSTKCDHIFCKF...</td>\n",
       "      <td>-0.464328</td>\n",
       "      <td>1</td>\n",
       "      <td>1855</td>\n",
       "    </tr>\n",
       "    <tr>\n",
       "      <th>1833</th>\n",
       "      <td>I1855M</td>\n",
       "      <td>MDLSALRVEEVQNVINAMQKILECPICLELIKEPVSTKCDHIFCKF...</td>\n",
       "      <td>0.021941</td>\n",
       "      <td>1</td>\n",
       "      <td>1855</td>\n",
       "    </tr>\n",
       "    <tr>\n",
       "      <th>1834</th>\n",
       "      <td>I1855L</td>\n",
       "      <td>MDLSALRVEEVQNVINAMQKILECPICLELIKEPVSTKCDHIFCKF...</td>\n",
       "      <td>0.233297</td>\n",
       "      <td>1</td>\n",
       "      <td>1855</td>\n",
       "    </tr>\n",
       "    <tr>\n",
       "      <th>1835</th>\n",
       "      <td>I1855K</td>\n",
       "      <td>MDLSALRVEEVQNVINAMQKILECPICLELIKEPVSTKCDHIFCKF...</td>\n",
       "      <td>-0.863844</td>\n",
       "      <td>1</td>\n",
       "      <td>1855</td>\n",
       "    </tr>\n",
       "    <tr>\n",
       "      <th>1836</th>\n",
       "      <td>I1855T</td>\n",
       "      <td>MDLSALRVEEVQNVINAMQKILECPICLELIKEPVSTKCDHIFCKF...</td>\n",
       "      <td>-0.291519</td>\n",
       "      <td>1</td>\n",
       "      <td>1855</td>\n",
       "    </tr>\n",
       "  </tbody>\n",
       "</table>\n",
       "<p>1837 rows × 5 columns</p>\n",
       "</div>"
      ],
      "text/plain": [
       "      mutant                                   mutated_sequence  DMS_score  \\\n",
       "0        M1I  IDLSALRVEEVQNVINAMQKILECPICLELIKEPVSTKCDHIFCKF...  -2.502128   \n",
       "1        M1V  VDLSALRVEEVQNVINAMQKILECPICLELIKEPVSTKCDHIFCKF...  -2.025645   \n",
       "2        M1T  TDLSALRVEEVQNVINAMQKILECPICLELIKEPVSTKCDHIFCKF...  -1.656569   \n",
       "3        M1R  RDLSALRVEEVQNVINAMQKILECPICLELIKEPVSTKCDHIFCKF...  -2.481580   \n",
       "4        M1L  LDLSALRVEEVQNVINAMQKILECPICLELIKEPVSTKCDHIFCKF...  -2.516529   \n",
       "...      ...                                                ...        ...   \n",
       "1832  I1855R  MDLSALRVEEVQNVINAMQKILECPICLELIKEPVSTKCDHIFCKF...  -0.464328   \n",
       "1833  I1855M  MDLSALRVEEVQNVINAMQKILECPICLELIKEPVSTKCDHIFCKF...   0.021941   \n",
       "1834  I1855L  MDLSALRVEEVQNVINAMQKILECPICLELIKEPVSTKCDHIFCKF...   0.233297   \n",
       "1835  I1855K  MDLSALRVEEVQNVINAMQKILECPICLELIKEPVSTKCDHIFCKF...  -0.863844   \n",
       "1836  I1855T  MDLSALRVEEVQNVINAMQKILECPICLELIKEPVSTKCDHIFCKF...  -0.291519   \n",
       "\n",
       "      DMS_score_bin position  \n",
       "0                 0        1  \n",
       "1                 0        1  \n",
       "2                 0        1  \n",
       "3                 0        1  \n",
       "4                 0        1  \n",
       "...             ...      ...  \n",
       "1832              1     1855  \n",
       "1833              1     1855  \n",
       "1834              1     1855  \n",
       "1835              1     1855  \n",
       "1836              1     1855  \n",
       "\n",
       "[1837 rows x 5 columns]"
      ]
     },
     "execution_count": 10,
     "metadata": {},
     "output_type": "execute_result"
    }
   ],
   "source": [
    "df"
   ]
  },
  {
   "cell_type": "code",
   "execution_count": 11,
   "id": "d970fd81",
   "metadata": {},
   "outputs": [],
   "source": [
    "df_g = df.groupby(by=['position', 'DMS_score_bin']).apply(lambda x: x['DMS_score_bin'] == 1)"
   ]
  },
  {
   "cell_type": "code",
   "execution_count": 12,
   "id": "945b1c73",
   "metadata": {},
   "outputs": [
    {
     "data": {
      "text/plain": [
       "position  DMS_score_bin     \n",
       "1         0              0      False\n",
       "                         1      False\n",
       "                         2      False\n",
       "                         3      False\n",
       "                         4      False\n",
       "                                ...  \n",
       "98        1              566     True\n",
       "                         567     True\n",
       "                         568     True\n",
       "                         570     True\n",
       "99        1              571     True\n",
       "Name: DMS_score_bin, Length: 1837, dtype: bool"
      ]
     },
     "execution_count": 12,
     "metadata": {},
     "output_type": "execute_result"
    }
   ],
   "source": [
    "df_g"
   ]
  },
  {
   "cell_type": "code",
   "execution_count": 13,
   "id": "370bd5c8",
   "metadata": {},
   "outputs": [
    {
     "data": {
      "image/png": "[encoded data removed]",
      "text/plain": [
       "<Figure size 640x480 with 1 Axes>"
      ]
     },
     "metadata": {},
     "output_type": "display_data"
    }
   ],
   "source": [
    "dms_scores = data_raw['DMS_score']\n",
    "n, bins, patches = plt.hist(x=dms_scores, bins='auto', color='#0504aa', alpha=0.7, rwidth=0.85)\n",
    "\n",
    "# Add labels and title\n",
    "plt.xlabel('DMS Score')\n",
    "plt.ylabel('Frequency')\n",
    "plt.title('Histogram of DMS Scores')\n",
    "\n",
    "# Add a grid\n",
    "plt.grid(axis='y', alpha=0.75)\n",
    "\n",
    "# Show the histogram\n",
    "plt.show()"
   ]
  },
  {
   "cell_type": "code",
   "execution_count": 14,
   "id": "eb247023",
   "metadata": {},
   "outputs": [
    {
     "name": "stdout",
     "output_type": "stream",
     "text": [
      "Index(['mutant', 'mutated_sequence', 'DMS_score', 'DMS_score_bin'], dtype='object')\n"
     ]
    }
   ],
   "source": [
    "print(data_raw.columns)"
   ]
  },
  {
   "cell_type": "code",
   "execution_count": 20,
   "id": "a10b7e15",
   "metadata": {},
   "outputs": [],
   "source": [
    "position = [1, 1, 1, 1, 1, 2, 2, 2, 2, 2, ..., 1855, 1855, 1855, 1855, 1855]  # replace with your own data"
   ]
  },
  {
   "cell_type": "code",
   "execution_count": 21,
   "id": "fbcab36f",
   "metadata": {},
   "outputs": [],
   "source": [
    "position_df = pd.DataFrame({'position': position})"
   ]
  },
  {
   "cell_type": "code",
   "execution_count": 22,
   "id": "cab01447",
   "metadata": {},
   "outputs": [],
   "source": [
    "data_with_position = pd.concat([data_raw, position_df], axis=1)"
   ]
  },
  {
   "cell_type": "code",
   "execution_count": 23,
   "id": "d4afa9c6",
   "metadata": {},
   "outputs": [
    {
     "name": "stdout",
     "output_type": "stream",
     "text": [
      "Index(['mutant', 'mutated_sequence', 'DMS_score', 'DMS_score_bin', 'position'], dtype='object')\n"
     ]
    }
   ],
   "source": [
    "print(data_with_position.columns)"
   ]
  },
  {
   "cell_type": "code",
   "execution_count": 24,
   "id": "65f6e62b",
   "metadata": {},
   "outputs": [
    {
     "name": "stdout",
     "output_type": "stream",
     "text": [
      "Index(['mutant', 'mutated_sequence', 'DMS_score', 'DMS_score_bin'], dtype='object')\n"
     ]
    }
   ],
   "source": [
    "print(data_raw.columns)"
   ]
  },
  {
   "cell_type": "code",
   "execution_count": 25,
   "id": "c53bc7a5",
   "metadata": {},
   "outputs": [],
   "source": [
    "data_raw['position'] = data_raw['mutant'].str.extract('(\\d+)').astype(int)"
   ]
  },
  {
   "cell_type": "code",
   "execution_count": 26,
   "id": "8dac1dd0",
   "metadata": {},
   "outputs": [
    {
     "name": "stdout",
     "output_type": "stream",
     "text": [
      "  mutant                                   mutated_sequence  DMS_score  \\\n",
      "0    M1I  IDLSALRVEEVQNVINAMQKILECPICLELIKEPVSTKCDHIFCKF...  -2.502128   \n",
      "1    M1V  VDLSALRVEEVQNVINAMQKILECPICLELIKEPVSTKCDHIFCKF...  -2.025645   \n",
      "2    M1T  TDLSALRVEEVQNVINAMQKILECPICLELIKEPVSTKCDHIFCKF...  -1.656569   \n",
      "3    M1R  RDLSALRVEEVQNVINAMQKILECPICLELIKEPVSTKCDHIFCKF...  -2.481580   \n",
      "4    M1L  LDLSALRVEEVQNVINAMQKILECPICLELIKEPVSTKCDHIFCKF...  -2.516529   \n",
      "\n",
      "   DMS_score_bin  position  \n",
      "0              0         1  \n",
      "1              0         1  \n",
      "2              0         1  \n",
      "3              0         1  \n",
      "4              0         1  \n"
     ]
    }
   ],
   "source": [
    "print(data_raw.head())"
   ]
  },
  {
   "cell_type": "code",
   "execution_count": 27,
   "id": "89f4bc20",
   "metadata": {},
   "outputs": [
    {
     "name": "stdout",
     "output_type": "stream",
     "text": [
      "Index(['mutant', 'mutated_sequence', 'DMS_score', 'DMS_score_bin', 'position'], dtype='object')\n"
     ]
    }
   ],
   "source": [
    "print(data_raw.columns)"
   ]
  },
  {
   "cell_type": "code",
   "execution_count": 28,
   "id": "a3deded0",
   "metadata": {},
   "outputs": [],
   "source": [
    "from sklearn.preprocessing import MinMaxScaler"
   ]
  },
  {
   "cell_type": "code",
   "execution_count": 29,
   "id": "7319819c",
   "metadata": {},
   "outputs": [],
   "source": [
    "scaler = MinMaxScaler()"
   ]
  },
  {
   "cell_type": "code",
   "execution_count": 30,
   "id": "d8ee0e14",
   "metadata": {},
   "outputs": [],
   "source": [
    "data_raw['DMS_score_normalized'] = scaler.fit_transform(data_raw[['DMS_score']])"
   ]
  },
  {
   "cell_type": "code",
   "execution_count": 31,
   "id": "bbd46f6e",
   "metadata": {},
   "outputs": [
    {
     "name": "stdout",
     "output_type": "stream",
     "text": [
      "      mutant                                   mutated_sequence  DMS_score  \\\n",
      "0        M1I  IDLSALRVEEVQNVINAMQKILECPICLELIKEPVSTKCDHIFCKF...  -2.502128   \n",
      "1        M1V  VDLSALRVEEVQNVINAMQKILECPICLELIKEPVSTKCDHIFCKF...  -2.025645   \n",
      "2        M1T  TDLSALRVEEVQNVINAMQKILECPICLELIKEPVSTKCDHIFCKF...  -1.656569   \n",
      "3        M1R  RDLSALRVEEVQNVINAMQKILECPICLELIKEPVSTKCDHIFCKF...  -2.481580   \n",
      "4        M1L  LDLSALRVEEVQNVINAMQKILECPICLELIKEPVSTKCDHIFCKF...  -2.516529   \n",
      "...      ...                                                ...        ...   \n",
      "1832  I1855R  MDLSALRVEEVQNVINAMQKILECPICLELIKEPVSTKCDHIFCKF...  -0.464328   \n",
      "1833  I1855M  MDLSALRVEEVQNVINAMQKILECPICLELIKEPVSTKCDHIFCKF...   0.021941   \n",
      "1834  I1855L  MDLSALRVEEVQNVINAMQKILECPICLELIKEPVSTKCDHIFCKF...   0.233297   \n",
      "1835  I1855K  MDLSALRVEEVQNVINAMQKILECPICLELIKEPVSTKCDHIFCKF...  -0.863844   \n",
      "1836  I1855T  MDLSALRVEEVQNVINAMQKILECPICLELIKEPVSTKCDHIFCKF...  -0.291519   \n",
      "\n",
      "      DMS_score_bin  position  DMS_score_normalized  \n",
      "0                 0         1              0.242003  \n",
      "1                 0         1              0.336824  \n",
      "2                 0         1              0.410270  \n",
      "3                 0         1              0.246092  \n",
      "4                 0         1              0.239137  \n",
      "...             ...       ...                   ...  \n",
      "1832              1      1855              0.647526  \n",
      "1833              1      1855              0.744294  \n",
      "1834              1      1855              0.786354  \n",
      "1835              1      1855              0.568022  \n",
      "1836              1      1855              0.681915  \n",
      "\n",
      "[1837 rows x 6 columns]\n"
     ]
    }
   ],
   "source": [
    "print(data_raw)"
   ]
  },
  {
   "cell_type": "code",
   "execution_count": 32,
   "id": "73173c40",
   "metadata": {},
   "outputs": [],
   "source": [
    "data_raw['dms_score_normalized'] = (data_raw['DMS_score'] - data_raw['DMS_score'].min()) / (data_raw['DMS_score'].max() - data_raw['DMS_score'].min())"
   ]
  },
  {
   "cell_type": "code",
   "execution_count": 33,
   "id": "76f753c3",
   "metadata": {},
   "outputs": [],
   "source": [
    "data_pivot = data_raw.pivot(index='mutant', columns='position', values='dms_score_normalized')\n"
   ]
  },
  {
   "cell_type": "code",
   "execution_count": 35,
   "id": "09d22c3f",
   "metadata": {},
   "outputs": [],
   "source": [
    "import seaborn as sns"
   ]
  },
  {
   "cell_type": "code",
   "execution_count": 36,
   "id": "94f03d8b",
   "metadata": {},
   "outputs": [
    {
     "data": {
      "text/plain": [
       "Text(0.5, 1.0, 'DMS Score Normalized Heatmap')"
      ]
     },
     "execution_count": 36,
     "metadata": {},
     "output_type": "execute_result"
    },
    {
     "data": {
      "image/png": "[encoded data removed]",
      "text/plain": [
       "<Figure size 1500x1000 with 2 Axes>"
      ]
     },
     "metadata": {},
     "output_type": "display_data"
    }
   ],
   "source": [
    "plt.figure(figsize=(15, 10))\n",
    "sns.heatmap(data_pivot, cmap='coolwarm', vmin=0, vmax=1, cbar_kws={'label': 'DMS Score Normalized'})\n",
    "plt.xlabel('Position')\n",
    "plt.ylabel('Mutant')\n",
    "plt.title('DMS Score Normalized Heatmap')"
   ]
  },
  {
   "cell_type": "code",
   "execution_count": null,
   "id": "5ddba128",
   "metadata": {},
   "outputs": [],
   "source": []
  }
 ],
 "metadata": {
  "kernelspec": {
   "display_name": "Python 3 (ipykernel)",
   "language": "python",
   "name": "python3"
  },
  "language_info": {
   "codemirror_mode": {
    "name": "ipython",
    "version": 3
   },
   "file_extension": ".py",
   "mimetype": "text/x-python",
   "name": "python",
   "nbconvert_exporter": "python",
   "pygments_lexer": "ipython3",
   "version": "3.10.9"
  }
 },
 "nbformat": 4,
 "nbformat_minor": 5
}
